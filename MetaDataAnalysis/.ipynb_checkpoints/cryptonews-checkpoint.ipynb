{
 "cells": [
  {
   "cell_type": "code",
   "execution_count": 1,
   "id": "e61db137-4fcb-4691-bc00-6cc95fbee986",
   "metadata": {},
   "outputs": [],
   "source": [
    "import pandas as pd "
   ]
  },
  {
   "cell_type": "code",
   "execution_count": 2,
   "id": "5ed44e15-8ad8-448a-90b6-19a6186e2aa5",
   "metadata": {},
   "outputs": [],
   "source": [
    "hc_meta=pd.read_csv('/Users/adityaravindrabhat/Documents/GitHub/engagement_models/Datasets/MetaAndTextDatasets/hot_crypto/hot_crypto_meta.csv')"
   ]
  },
  {
   "cell_type": "code",
   "execution_count": 3,
   "id": "90625652-c2c8-48bc-b535-9df3ed638f46",
   "metadata": {},
   "outputs": [],
   "source": [
    "nc_meta=pd.read_csv('/Users/adityaravindrabhat/Documents/GitHub/engagement_models/Datasets/MetaAndTextDatasets/new_crypto/new_crypto_meta.csv')"
   ]
  },
  {
   "cell_type": "code",
   "execution_count": 8,
   "id": "b53a6f3e-18eb-4ce5-96a8-0f0dfac7614e",
   "metadata": {},
   "outputs": [
    {
     "data": {
      "text/plain": [
       "count    7975.000000\n",
       "mean        4.117367\n",
       "std        25.287745\n",
       "min         1.000000\n",
       "25%         1.000000\n",
       "50%         1.000000\n",
       "75%         3.000000\n",
       "max      2074.000000\n",
       "Name: link_count, dtype: float64"
      ]
     },
     "execution_count": 8,
     "metadata": {},
     "output_type": "execute_result"
    }
   ],
   "source": [
    "hc_meta['link_count']=hc_meta['links'].apply(lambda n: len(n.split(',')))\n",
    "hc_meta['link_count'].describe()"
   ]
  },
  {
   "cell_type": "code",
   "execution_count": 6,
   "id": "eb8878d2-6490-41c6-9dee-89dd56dc3a6f",
   "metadata": {},
   "outputs": [
    {
     "data": {
      "text/plain": [
       "1.0"
      ]
     },
     "execution_count": 6,
     "metadata": {},
     "output_type": "execute_result"
    }
   ],
   "source": [
    "hc_meta['link_count'].median()"
   ]
  },
  {
   "cell_type": "code",
   "execution_count": null,
   "id": "045d8862-762a-4d3a-ad36-df565ae20e2f",
   "metadata": {},
   "outputs": [],
   "source": []
  },
  {
   "cell_type": "code",
   "execution_count": 5,
   "id": "efebd15b-1978-4bde-a146-ac44b64f21ad",
   "metadata": {},
   "outputs": [
    {
     "data": {
      "text/plain": [
       "count    12263.000000\n",
       "mean         4.832097\n",
       "std         22.801225\n",
       "min          1.000000\n",
       "25%          1.000000\n",
       "50%          1.000000\n",
       "75%          5.000000\n",
       "max       1657.000000\n",
       "Name: link_count, dtype: float64"
      ]
     },
     "execution_count": 5,
     "metadata": {},
     "output_type": "execute_result"
    }
   ],
   "source": [
    "nc_meta['link_count']=nc_meta['links'].apply(lambda n: len(n.split(',')))\n",
    "nc_meta['link_count'].describe()"
   ]
  },
  {
   "cell_type": "code",
   "execution_count": 7,
   "id": "f527e9b6-8eb0-4114-ae2e-068bf823b94d",
   "metadata": {},
   "outputs": [
    {
     "data": {
      "text/plain": [
       "1.0"
      ]
     },
     "execution_count": 7,
     "metadata": {},
     "output_type": "execute_result"
    }
   ],
   "source": [
    "nc_meta['link_count'].median()"
   ]
  },
  {
   "cell_type": "code",
   "execution_count": 9,
   "id": "b3631e4d-1715-4bae-af06-cc216912b0f5",
   "metadata": {},
   "outputs": [],
   "source": [
    "hot_crypto=pd.read_csv('/Users/adityaravindrabhat/Downloads/Final Datasets/SemicleanDatasets_v1/hot_news_crypto_v1.csv')"
   ]
  },
  {
   "cell_type": "code",
   "execution_count": 12,
   "id": "50a2bef9-9d43-4eaf-af2d-8f1bcdeea14f",
   "metadata": {},
   "outputs": [
    {
     "data": {
      "text/plain": [
       "self.CryptoCurrency            69.480844\n",
       "dailyhodl.com                   1.023337\n",
       "cryptopotato.com                1.010857\n",
       "fxstreet.com                    0.886060\n",
       "markets.businessinsider.com     0.848621\n",
       "cryptoslate.com                 0.667665\n",
       "decrypt.co                      0.661425\n",
       "forbes.com                      0.630226\n",
       "cointelegraph.com               0.592787\n",
       "bitcoinist.com                  0.586547\n",
       "news.bitcoin.com                0.567827\n",
       "Name: domain, dtype: float64"
      ]
     },
     "execution_count": 12,
     "metadata": {},
     "output_type": "execute_result"
    }
   ],
   "source": [
    "hot_crypto['domain'].value_counts(normalize=True).nlargest(11)*100"
   ]
  },
  {
   "cell_type": "code",
   "execution_count": 14,
   "id": "e11427e8-619c-4732-8f0e-37f70129b78a",
   "metadata": {},
   "outputs": [],
   "source": [
    "new_crypto=pd.read_csv('/Users/adityaravindrabhat/Downloads/Final Datasets/SemicleanDatasets_v1/new_crypto1.csv')"
   ]
  },
  {
   "cell_type": "code",
   "execution_count": 15,
   "id": "a5b55abc-59a9-4ef6-bf97-e93e0741b8f4",
   "metadata": {},
   "outputs": [
    {
     "data": {
      "text/plain": [
       "self.CryptoCurrency    57.573863\n",
       "cointelegraph.com       1.743005\n",
       "decrypt.co              1.445990\n",
       "coindesk.com            1.422542\n",
       "youtu.be                1.297483\n",
       "news.bitcoin.com        1.125528\n",
       "youtube.com             1.070814\n",
       "finance.yahoo.com       1.070814\n",
       "dailyhodl.com           0.984837\n",
       "bitcoinist.com          0.930123\n",
       "cryptopotato.com        0.851962\n",
       "Name: domain, dtype: float64"
      ]
     },
     "execution_count": 15,
     "metadata": {},
     "output_type": "execute_result"
    }
   ],
   "source": [
    "h_crypto['domain'].value_counts(normalize=True).nlargest(11)*100"
   ]
  },
  {
   "cell_type": "code",
   "execution_count": null,
   "id": "0803beb7-7769-4371-8a17-74813c06303b",
   "metadata": {},
   "outputs": [],
   "source": []
  }
 ],
 "metadata": {
  "kernelspec": {
   "display_name": "Python 3",
   "language": "python",
   "name": "python3"
  },
  "language_info": {
   "codemirror_mode": {
    "name": "ipython",
    "version": 3
   },
   "file_extension": ".py",
   "mimetype": "text/x-python",
   "name": "python",
   "nbconvert_exporter": "python",
   "pygments_lexer": "ipython3",
   "version": "3.8.8"
  }
 },
 "nbformat": 4,
 "nbformat_minor": 5
}
