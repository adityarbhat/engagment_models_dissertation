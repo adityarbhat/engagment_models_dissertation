{
 "cells": [
  {
   "cell_type": "code",
   "execution_count": 1,
   "id": "23e14c57-e4db-4f15-a89e-9c472b94da6a",
   "metadata": {},
   "outputs": [],
   "source": [
    "import pandas as pd \n",
    "from sklearn.preprocessing import StandardScaler\n",
    "from sklearn.decomposition import PCA \n",
    "from sklearn.pipeline import Pipeline\n",
    "import matplotlib.pyplot as plt"
   ]
  },
  {
   "cell_type": "code",
   "execution_count": 2,
   "id": "87d1477e-8c76-4862-beb4-57c5d74d2764",
   "metadata": {},
   "outputs": [
    {
     "name": "stdout",
     "output_type": "stream",
     "text": [
      "<class 'pandas.core.frame.DataFrame'>\n",
      "RangeIndex: 4129 entries, 0 to 4128\n",
      "Data columns (total 27 columns):\n",
      " #   Column        Non-Null Count  Dtype \n",
      "---  ------        --------------  ----- \n",
      " 0   Unnamed: 0    4129 non-null   object\n",
      " 1   id            4129 non-null   object\n",
      " 2   title         4121 non-null   object\n",
      " 3   published_at  3594 non-null   object\n",
      " 4   publish_date  3720 non-null   object\n",
      " 5   tweets        4129 non-null   object\n",
      " 6   domain        4129 non-null   object\n",
      " 7   movies        4129 non-null   object\n",
      " 8   tags          4129 non-null   object\n",
      " 9   top_image     1 non-null      object\n",
      " 10  links         4129 non-null   object\n",
      " 11  Unnamed: 11   1 non-null      object\n",
      " 12  Unnamed: 12   1 non-null      object\n",
      " 13  Unnamed: 13   1 non-null      object\n",
      " 14  Unnamed: 14   1 non-null      object\n",
      " 15  Unnamed: 15   1 non-null      object\n",
      " 16  Unnamed: 16   1 non-null      object\n",
      " 17  Unnamed: 17   1 non-null      object\n",
      " 18  Unnamed: 18   1 non-null      object\n",
      " 19  Unnamed: 19   1 non-null      object\n",
      " 20  Unnamed: 20   1 non-null      object\n",
      " 21  Unnamed: 21   1 non-null      object\n",
      " 22  Unnamed: 22   1 non-null      object\n",
      " 23  Unnamed: 23   1 non-null      object\n",
      " 24  Unnamed: 24   1 non-null      object\n",
      " 25  Unnamed: 25   1 non-null      object\n",
      " 26  Unnamed: 26   1 non-null      object\n",
      "dtypes: object(27)\n",
      "memory usage: 871.1+ KB\n"
     ]
    }
   ],
   "source": [
    "hnews=pd.read_csv('/Users/adityaravindrabhat/Documents/GitHub/engagement_models/Datasets/MetaAndTextDatasets/hot_news/hot_news_articles_meta_new.csv')\n",
    "hnews.info()"
   ]
  },
  {
   "cell_type": "code",
   "execution_count": 4,
   "id": "ee65f4d3-cc3c-4f01-8fe1-b5187f4a7550",
   "metadata": {},
   "outputs": [
    {
     "data": {
      "text/html": [
       "<div>\n",
       "<style scoped>\n",
       "    .dataframe tbody tr th:only-of-type {\n",
       "        vertical-align: middle;\n",
       "    }\n",
       "\n",
       "    .dataframe tbody tr th {\n",
       "        vertical-align: top;\n",
       "    }\n",
       "\n",
       "    .dataframe thead th {\n",
       "        text-align: right;\n",
       "    }\n",
       "</style>\n",
       "<table border=\"1\" class=\"dataframe\">\n",
       "  <thead>\n",
       "    <tr style=\"text-align: right;\">\n",
       "      <th></th>\n",
       "      <th>id</th>\n",
       "      <th>title</th>\n",
       "      <th>published_at</th>\n",
       "      <th>publish_date</th>\n",
       "      <th>tweets</th>\n",
       "      <th>domain</th>\n",
       "      <th>movies</th>\n",
       "      <th>tags</th>\n",
       "      <th>links</th>\n",
       "    </tr>\n",
       "  </thead>\n",
       "  <tbody>\n",
       "    <tr>\n",
       "      <th>0</th>\n",
       "      <td>ooqc6i</td>\n",
       "      <td>r/news - 2020 Tokyo Olympics Megathread</td>\n",
       "      <td>NaN</td>\n",
       "      <td>NaN</td>\n",
       "      <td>[]</td>\n",
       "      <td>www.reddit.com</td>\n",
       "      <td>[]</td>\n",
       "      <td>[]</td>\n",
       "      <td>['/r/sports/', '/r/olympics/', 'https://olympi...</td>\n",
       "    </tr>\n",
       "    <tr>\n",
       "      <th>1</th>\n",
       "      <td>oou7kh</td>\n",
       "      <td>Disturbing message written on man’s chest</td>\n",
       "      <td>2021-07-20 22:58:00+00:00</td>\n",
       "      <td>2021-07-20T22:58:00.000Z</td>\n",
       "      <td>[]</td>\n",
       "      <td>www.news.com.au</td>\n",
       "      <td>[]</td>\n",
       "      <td>[]</td>\n",
       "      <td>['https://nypost.com/2021/07/20/man-found-dead...</td>\n",
       "    </tr>\n",
       "    <tr>\n",
       "      <th>2</th>\n",
       "      <td>oorcsq</td>\n",
       "      <td>New Jersey hospital system fires 6 employees w...</td>\n",
       "      <td>2021-07-21 14:37:00+00:00</td>\n",
       "      <td>Wed Jul 21 2021 14:37:00 GMT+0000 (UTC)</td>\n",
       "      <td>[]</td>\n",
       "      <td>www.nbcnews.com</td>\n",
       "      <td>[]</td>\n",
       "      <td>[]</td>\n",
       "      <td>['https://www.rwjbh.org/blog/2021/may/rwjbarna...</td>\n",
       "    </tr>\n",
       "    <tr>\n",
       "      <th>3</th>\n",
       "      <td>oonzyz</td>\n",
       "      <td>Yosemite park ranger shares heartbreaking plea...</td>\n",
       "      <td>2021-07-21 00:39:35+00:00</td>\n",
       "      <td>2021-07-21T00:39:35Z</td>\n",
       "      <td>[]</td>\n",
       "      <td>www.cnn.com</td>\n",
       "      <td>[]</td>\n",
       "      <td>[]</td>\n",
       "      <td>['https://www.facebook.com/YosemiteNPS/posts/4...</td>\n",
       "    </tr>\n",
       "    <tr>\n",
       "      <th>4</th>\n",
       "      <td>oowppz</td>\n",
       "      <td>Sheriff’s office captain found passed out in t...</td>\n",
       "      <td>2021-07-21 21:46:32.448000+00:00</td>\n",
       "      <td>2021-07-21T21:46:32.448Z</td>\n",
       "      <td>[]</td>\n",
       "      <td>www.wftv.com</td>\n",
       "      <td>[]</td>\n",
       "      <td>[]</td>\n",
       "      <td>['https://www.wftv.com/news/trending/how-do-yo...</td>\n",
       "    </tr>\n",
       "  </tbody>\n",
       "</table>\n",
       "</div>"
      ],
      "text/plain": [
       "       id                                              title  \\\n",
       "0  ooqc6i            r/news - 2020 Tokyo Olympics Megathread   \n",
       "1  oou7kh          Disturbing message written on man’s chest   \n",
       "2  oorcsq  New Jersey hospital system fires 6 employees w...   \n",
       "3  oonzyz  Yosemite park ranger shares heartbreaking plea...   \n",
       "4  oowppz  Sheriff’s office captain found passed out in t...   \n",
       "\n",
       "                       published_at                             publish_date  \\\n",
       "0                               NaN                                      NaN   \n",
       "1         2021-07-20 22:58:00+00:00                 2021-07-20T22:58:00.000Z   \n",
       "2         2021-07-21 14:37:00+00:00  Wed Jul 21 2021 14:37:00 GMT+0000 (UTC)   \n",
       "3         2021-07-21 00:39:35+00:00                     2021-07-21T00:39:35Z   \n",
       "4  2021-07-21 21:46:32.448000+00:00                 2021-07-21T21:46:32.448Z   \n",
       "\n",
       "  tweets           domain movies tags  \\\n",
       "0     []   www.reddit.com     []   []   \n",
       "1     []  www.news.com.au     []   []   \n",
       "2     []  www.nbcnews.com     []   []   \n",
       "3     []      www.cnn.com     []   []   \n",
       "4     []     www.wftv.com     []   []   \n",
       "\n",
       "                                               links  \n",
       "0  ['/r/sports/', '/r/olympics/', 'https://olympi...  \n",
       "1  ['https://nypost.com/2021/07/20/man-found-dead...  \n",
       "2  ['https://www.rwjbh.org/blog/2021/may/rwjbarna...  \n",
       "3  ['https://www.facebook.com/YosemiteNPS/posts/4...  \n",
       "4  ['https://www.wftv.com/news/trending/how-do-yo...  "
      ]
     },
     "execution_count": 4,
     "metadata": {},
     "output_type": "execute_result"
    }
   ],
   "source": [
    "hnews=hnews[['id','title','published_at','publish_date','tweets','domain','movies','tags','links']]\n",
    "hnews.head()"
   ]
  },
  {
   "cell_type": "code",
   "execution_count": 5,
   "id": "e4b6e8a1-5086-449c-bff0-fbcb89437987",
   "metadata": {},
   "outputs": [
    {
     "data": {
      "text/plain": [
       "(4129, 9)"
      ]
     },
     "execution_count": 5,
     "metadata": {},
     "output_type": "execute_result"
    }
   ],
   "source": [
    "hnews.shape"
   ]
  },
  {
   "cell_type": "code",
   "execution_count": 6,
   "id": "46b0ddfb-a216-454e-855a-87e83a83ad35",
   "metadata": {},
   "outputs": [
    {
     "data": {
      "text/html": [
       "<div>\n",
       "<style scoped>\n",
       "    .dataframe tbody tr th:only-of-type {\n",
       "        vertical-align: middle;\n",
       "    }\n",
       "\n",
       "    .dataframe tbody tr th {\n",
       "        vertical-align: top;\n",
       "    }\n",
       "\n",
       "    .dataframe thead th {\n",
       "        text-align: right;\n",
       "    }\n",
       "</style>\n",
       "<table border=\"1\" class=\"dataframe\">\n",
       "  <thead>\n",
       "    <tr style=\"text-align: right;\">\n",
       "      <th></th>\n",
       "      <th>Rank</th>\n",
       "      <th>title</th>\n",
       "      <th>score</th>\n",
       "      <th>id</th>\n",
       "      <th>url</th>\n",
       "      <th>comms_num</th>\n",
       "      <th>author</th>\n",
       "      <th>upvote_ratio</th>\n",
       "      <th>flair</th>\n",
       "      <th>created_utc</th>\n",
       "      <th>...</th>\n",
       "      <th>domain</th>\n",
       "      <th>is_crosspostable</th>\n",
       "      <th>visited</th>\n",
       "      <th>upvote</th>\n",
       "      <th>ups</th>\n",
       "      <th>is_video</th>\n",
       "      <th>link_flair_text</th>\n",
       "      <th>gilded</th>\n",
       "      <th>created_date</th>\n",
       "      <th>created_time</th>\n",
       "    </tr>\n",
       "  </thead>\n",
       "  <tbody>\n",
       "    <tr>\n",
       "      <th>0</th>\n",
       "      <td>1</td>\n",
       "      <td>2020 Tokyo Olympics Megathread</td>\n",
       "      <td>49</td>\n",
       "      <td>ooqc6i</td>\n",
       "      <td>https://www.reddit.com/r/news/comments/ooqc6i/...</td>\n",
       "      <td>142</td>\n",
       "      <td>NewsModTeam</td>\n",
       "      <td>0.65</td>\n",
       "      <td>Does not answer PMs</td>\n",
       "      <td>2021-07-21 09:53:34-04:00</td>\n",
       "      <td>...</td>\n",
       "      <td>self.news</td>\n",
       "      <td>True</td>\n",
       "      <td>False</td>\n",
       "      <td>&lt;bound method VotableMixin.upvote of Submissio...</td>\n",
       "      <td>49</td>\n",
       "      <td>False</td>\n",
       "      <td>NaN</td>\n",
       "      <td>0</td>\n",
       "      <td>7/21/21</td>\n",
       "      <td>9:53:34</td>\n",
       "    </tr>\n",
       "    <tr>\n",
       "      <th>1</th>\n",
       "      <td>2</td>\n",
       "      <td>Man found dead with ‘I touch little girls’ wri...</td>\n",
       "      <td>14470</td>\n",
       "      <td>oou7kh</td>\n",
       "      <td>https://www.news.com.au/world/north-america/ma...</td>\n",
       "      <td>1859</td>\n",
       "      <td>WritesUaSong</td>\n",
       "      <td>0.97</td>\n",
       "      <td>NaN</td>\n",
       "      <td>2021-07-21 13:05:18-04:00</td>\n",
       "      <td>...</td>\n",
       "      <td>news.com.au</td>\n",
       "      <td>True</td>\n",
       "      <td>False</td>\n",
       "      <td>&lt;bound method VotableMixin.upvote of Submissio...</td>\n",
       "      <td>14470</td>\n",
       "      <td>False</td>\n",
       "      <td>NaN</td>\n",
       "      <td>0</td>\n",
       "      <td>7/21/21</td>\n",
       "      <td>13:05:18</td>\n",
       "    </tr>\n",
       "    <tr>\n",
       "      <th>2</th>\n",
       "      <td>3</td>\n",
       "      <td>New Jersey hospital fires 6 employees who did ...</td>\n",
       "      <td>32350</td>\n",
       "      <td>oorcsq</td>\n",
       "      <td>https://www.nbcnews.com/news/us-news/new-jerse...</td>\n",
       "      <td>3818</td>\n",
       "      <td>Dictator0</td>\n",
       "      <td>0.88</td>\n",
       "      <td>NaN</td>\n",
       "      <td>2021-07-21 10:46:33-04:00</td>\n",
       "      <td>...</td>\n",
       "      <td>nbcnews.com</td>\n",
       "      <td>True</td>\n",
       "      <td>False</td>\n",
       "      <td>&lt;bound method VotableMixin.upvote of Submissio...</td>\n",
       "      <td>32350</td>\n",
       "      <td>False</td>\n",
       "      <td>NaN</td>\n",
       "      <td>0</td>\n",
       "      <td>7/21/21</td>\n",
       "      <td>10:46:33</td>\n",
       "    </tr>\n",
       "    <tr>\n",
       "      <th>3</th>\n",
       "      <td>4</td>\n",
       "      <td>Yosemite park ranger shares heartbreaking plea...</td>\n",
       "      <td>44462</td>\n",
       "      <td>oonzyz</td>\n",
       "      <td>https://www.cnn.com/travel/amp/yosemite-bear-k...</td>\n",
       "      <td>2319</td>\n",
       "      <td>ezzrd</td>\n",
       "      <td>0.92</td>\n",
       "      <td>NaN</td>\n",
       "      <td>2021-07-21 07:30:04-04:00</td>\n",
       "      <td>...</td>\n",
       "      <td>cnn.com</td>\n",
       "      <td>True</td>\n",
       "      <td>False</td>\n",
       "      <td>&lt;bound method VotableMixin.upvote of Submissio...</td>\n",
       "      <td>44462</td>\n",
       "      <td>False</td>\n",
       "      <td>NaN</td>\n",
       "      <td>0</td>\n",
       "      <td>7/21/21</td>\n",
       "      <td>7:30:04</td>\n",
       "    </tr>\n",
       "    <tr>\n",
       "      <th>4</th>\n",
       "      <td>5</td>\n",
       "      <td>Sheriff’s office captain found passed out in t...</td>\n",
       "      <td>2004</td>\n",
       "      <td>oowppz</td>\n",
       "      <td>https://www.wftv.com/news/9investigates/scso-c...</td>\n",
       "      <td>227</td>\n",
       "      <td>AllenZulu</td>\n",
       "      <td>0.97</td>\n",
       "      <td>NaN</td>\n",
       "      <td>2021-07-21 15:09:03-04:00</td>\n",
       "      <td>...</td>\n",
       "      <td>wftv.com</td>\n",
       "      <td>True</td>\n",
       "      <td>False</td>\n",
       "      <td>&lt;bound method VotableMixin.upvote of Submissio...</td>\n",
       "      <td>2004</td>\n",
       "      <td>False</td>\n",
       "      <td>NaN</td>\n",
       "      <td>0</td>\n",
       "      <td>7/21/21</td>\n",
       "      <td>15:09:03</td>\n",
       "    </tr>\n",
       "  </tbody>\n",
       "</table>\n",
       "<p>5 rows × 23 columns</p>\n",
       "</div>"
      ],
      "text/plain": [
       "   Rank                                              title  score      id  \\\n",
       "0     1                     2020 Tokyo Olympics Megathread     49  ooqc6i   \n",
       "1     2  Man found dead with ‘I touch little girls’ wri...  14470  oou7kh   \n",
       "2     3  New Jersey hospital fires 6 employees who did ...  32350  oorcsq   \n",
       "3     4  Yosemite park ranger shares heartbreaking plea...  44462  oonzyz   \n",
       "4     5  Sheriff’s office captain found passed out in t...   2004  oowppz   \n",
       "\n",
       "                                                 url  comms_num        author  \\\n",
       "0  https://www.reddit.com/r/news/comments/ooqc6i/...        142   NewsModTeam   \n",
       "1  https://www.news.com.au/world/north-america/ma...       1859  WritesUaSong   \n",
       "2  https://www.nbcnews.com/news/us-news/new-jerse...       3818     Dictator0   \n",
       "3  https://www.cnn.com/travel/amp/yosemite-bear-k...       2319         ezzrd   \n",
       "4  https://www.wftv.com/news/9investigates/scso-c...        227     AllenZulu   \n",
       "\n",
       "   upvote_ratio                flair                created_utc  ...  \\\n",
       "0          0.65  Does not answer PMs  2021-07-21 09:53:34-04:00  ...   \n",
       "1          0.97                  NaN  2021-07-21 13:05:18-04:00  ...   \n",
       "2          0.88                  NaN  2021-07-21 10:46:33-04:00  ...   \n",
       "3          0.92                  NaN  2021-07-21 07:30:04-04:00  ...   \n",
       "4          0.97                  NaN  2021-07-21 15:09:03-04:00  ...   \n",
       "\n",
       "        domain is_crosspostable  visited  \\\n",
       "0    self.news             True    False   \n",
       "1  news.com.au             True    False   \n",
       "2  nbcnews.com             True    False   \n",
       "3      cnn.com             True    False   \n",
       "4     wftv.com             True    False   \n",
       "\n",
       "                                              upvote    ups  is_video  \\\n",
       "0  <bound method VotableMixin.upvote of Submissio...     49     False   \n",
       "1  <bound method VotableMixin.upvote of Submissio...  14470     False   \n",
       "2  <bound method VotableMixin.upvote of Submissio...  32350     False   \n",
       "3  <bound method VotableMixin.upvote of Submissio...  44462     False   \n",
       "4  <bound method VotableMixin.upvote of Submissio...   2004     False   \n",
       "\n",
       "  link_flair_text  gilded  created_date created_time  \n",
       "0             NaN       0       7/21/21      9:53:34  \n",
       "1             NaN       0       7/21/21     13:05:18  \n",
       "2             NaN       0       7/21/21     10:46:33  \n",
       "3             NaN       0       7/21/21      7:30:04  \n",
       "4             NaN       0       7/21/21     15:09:03  \n",
       "\n",
       "[5 rows x 23 columns]"
      ]
     },
     "execution_count": 6,
     "metadata": {},
     "output_type": "execute_result"
    }
   ],
   "source": [
    "hot_news=pd.read_csv('/Users/adityaravindrabhat/Downloads/Final Datasets/SemicleanDatasets_v1/hot_news_v1.csv')\n",
    "hot_news.head()"
   ]
  },
  {
   "cell_type": "code",
   "execution_count": 70,
   "id": "498c0bf8-e735-4c45-afa5-89b578826d5f",
   "metadata": {},
   "outputs": [
    {
     "data": {
      "text/plain": [
       "(13700, 23)"
      ]
     },
     "execution_count": 70,
     "metadata": {},
     "output_type": "execute_result"
    }
   ],
   "source": [
    "hot_news.shape"
   ]
  },
  {
   "cell_type": "code",
   "execution_count": 7,
   "id": "e7ecfe02-cd49-4d74-a37c-c6de4521e3ec",
   "metadata": {},
   "outputs": [
    {
     "data": {
      "text/plain": [
       "(13700, 31)"
      ]
     },
     "execution_count": 7,
     "metadata": {},
     "output_type": "execute_result"
    }
   ],
   "source": [
    "hot_main=hot_news.merge(hnews,on='id',how='left')\n",
    "hot_main.shape"
   ]
  },
  {
   "cell_type": "code",
   "execution_count": 8,
   "id": "267b8d66-3e20-4e0d-8263-28486c2d5fde",
   "metadata": {},
   "outputs": [
    {
     "data": {
      "text/plain": [
       "Index(['Rank', 'title_x', 'score', 'id', 'url', 'comms_num', 'author',\n",
       "       'upvote_ratio', 'flair', 'created_utc', 'clicked', 'edited',\n",
       "       'no_crossposts', 'domain_x', 'is_crosspostable', 'visited', 'upvote',\n",
       "       'ups', 'is_video', 'link_flair_text', 'gilded', 'created_date',\n",
       "       'created_time', 'title_y', 'published_at', 'publish_date', 'tweets',\n",
       "       'domain_y', 'movies', 'tags', 'links'],\n",
       "      dtype='object')"
      ]
     },
     "execution_count": 8,
     "metadata": {},
     "output_type": "execute_result"
    }
   ],
   "source": [
    "hot_main.columns"
   ]
  },
  {
   "cell_type": "code",
   "execution_count": 9,
   "id": "0ec6b017-2a8a-4735-9924-d52d7e117672",
   "metadata": {},
   "outputs": [
    {
     "data": {
      "text/plain": [
       "cnn.com            9.927007\n",
       "apnews.com         9.306569\n",
       "nbcnews.com        7.854015\n",
       "theguardian.com    6.364964\n",
       "abcnews.go.com     5.817518\n",
       "reuters.com        5.729927\n",
       "cnbc.com           5.051095\n",
       "bbc.com            3.065693\n",
       "cbsnews.com        2.270073\n",
       "cbc.ca             1.540146\n",
       "Name: domain_x, dtype: float64"
      ]
     },
     "execution_count": 9,
     "metadata": {},
     "output_type": "execute_result"
    }
   ],
   "source": [
    "hot_main['domain_x'].value_counts(normalize=True).nlargest(10)*100"
   ]
  },
  {
   "cell_type": "code",
   "execution_count": 122,
   "id": "f57fa3b8-8bc6-4e7c-bdbd-7bed3f390ffc",
   "metadata": {},
   "outputs": [],
   "source": [
    "hnews['link_count']=hnews['links'].apply(lambda n: len(n.split(',')))"
   ]
  },
  {
   "cell_type": "code",
   "execution_count": 125,
   "id": "33d437c5-905e-4c54-aca1-ca5eaa9e9831",
   "metadata": {},
   "outputs": [
    {
     "data": {
      "text/plain": [
       "count    4128.000000\n",
       "mean        5.993459\n",
       "std         7.764726\n",
       "min         1.000000\n",
       "25%         1.000000\n",
       "50%         4.000000\n",
       "75%         8.000000\n",
       "max       258.000000\n",
       "Name: link_count, dtype: float64"
      ]
     },
     "execution_count": 125,
     "metadata": {},
     "output_type": "execute_result"
    }
   ],
   "source": [
    "hnews['link_count'].describe()"
   ]
  },
  {
   "cell_type": "code",
   "execution_count": 126,
   "id": "78295419-30fa-478e-b77a-5e66a7c1b16e",
   "metadata": {},
   "outputs": [
    {
     "data": {
      "text/plain": [
       "4.0"
      ]
     },
     "execution_count": 126,
     "metadata": {},
     "output_type": "execute_result"
    }
   ],
   "source": [
    "hnews['link_count'].median()"
   ]
  },
  {
   "cell_type": "code",
   "execution_count": 13,
   "id": "81e291f6-3fef-4058-b46f-1985d9f7b3a8",
   "metadata": {},
   "outputs": [
    {
     "ename": "AttributeError",
     "evalue": "'float' object has no attribute 'split'",
     "output_type": "error",
     "traceback": [
      "\u001b[0;31m---------------------------------------------------------------------------\u001b[0m",
      "\u001b[0;31mAttributeError\u001b[0m                            Traceback (most recent call last)",
      "\u001b[0;32m<ipython-input-13-0fc259d89328>\u001b[0m in \u001b[0;36m<module>\u001b[0;34m\u001b[0m\n\u001b[0;32m----> 1\u001b[0;31m \u001b[0mhot_main\u001b[0m\u001b[0;34m[\u001b[0m\u001b[0;34m'tags_count'\u001b[0m\u001b[0;34m]\u001b[0m\u001b[0;34m=\u001b[0m\u001b[0mhot_main\u001b[0m\u001b[0;34m[\u001b[0m\u001b[0;34m'tags'\u001b[0m\u001b[0;34m]\u001b[0m\u001b[0;34m.\u001b[0m\u001b[0mapply\u001b[0m\u001b[0;34m(\u001b[0m\u001b[0;32mlambda\u001b[0m \u001b[0mn\u001b[0m\u001b[0;34m:\u001b[0m \u001b[0mlen\u001b[0m\u001b[0;34m(\u001b[0m\u001b[0mn\u001b[0m\u001b[0;34m.\u001b[0m\u001b[0msplit\u001b[0m\u001b[0;34m(\u001b[0m\u001b[0;34m','\u001b[0m\u001b[0;34m)\u001b[0m\u001b[0;34m)\u001b[0m\u001b[0;34m)\u001b[0m\u001b[0;34m\u001b[0m\u001b[0;34m\u001b[0m\u001b[0m\n\u001b[0m\u001b[1;32m      2\u001b[0m \u001b[0mhot_main\u001b[0m\u001b[0;34m[\u001b[0m\u001b[0;34m[\u001b[0m\u001b[0;34m'tags'\u001b[0m\u001b[0;34m,\u001b[0m\u001b[0;34m'tags_count'\u001b[0m\u001b[0;34m]\u001b[0m\u001b[0;34m]\u001b[0m\u001b[0;34m.\u001b[0m\u001b[0mhead\u001b[0m\u001b[0;34m(\u001b[0m\u001b[0;36m25\u001b[0m\u001b[0;34m)\u001b[0m\u001b[0;34m\u001b[0m\u001b[0;34m\u001b[0m\u001b[0m\n",
      "\u001b[0;32m/opt/anaconda3/lib/python3.8/site-packages/pandas/core/series.py\u001b[0m in \u001b[0;36mapply\u001b[0;34m(self, func, convert_dtype, args, **kwds)\u001b[0m\n\u001b[1;32m   4136\u001b[0m             \u001b[0;32melse\u001b[0m\u001b[0;34m:\u001b[0m\u001b[0;34m\u001b[0m\u001b[0;34m\u001b[0m\u001b[0m\n\u001b[1;32m   4137\u001b[0m                 \u001b[0mvalues\u001b[0m \u001b[0;34m=\u001b[0m \u001b[0mself\u001b[0m\u001b[0;34m.\u001b[0m\u001b[0mastype\u001b[0m\u001b[0;34m(\u001b[0m\u001b[0mobject\u001b[0m\u001b[0;34m)\u001b[0m\u001b[0;34m.\u001b[0m\u001b[0m_values\u001b[0m\u001b[0;34m\u001b[0m\u001b[0;34m\u001b[0m\u001b[0m\n\u001b[0;32m-> 4138\u001b[0;31m                 \u001b[0mmapped\u001b[0m \u001b[0;34m=\u001b[0m \u001b[0mlib\u001b[0m\u001b[0;34m.\u001b[0m\u001b[0mmap_infer\u001b[0m\u001b[0;34m(\u001b[0m\u001b[0mvalues\u001b[0m\u001b[0;34m,\u001b[0m \u001b[0mf\u001b[0m\u001b[0;34m,\u001b[0m \u001b[0mconvert\u001b[0m\u001b[0;34m=\u001b[0m\u001b[0mconvert_dtype\u001b[0m\u001b[0;34m)\u001b[0m\u001b[0;34m\u001b[0m\u001b[0;34m\u001b[0m\u001b[0m\n\u001b[0m\u001b[1;32m   4139\u001b[0m \u001b[0;34m\u001b[0m\u001b[0m\n\u001b[1;32m   4140\u001b[0m         \u001b[0;32mif\u001b[0m \u001b[0mlen\u001b[0m\u001b[0;34m(\u001b[0m\u001b[0mmapped\u001b[0m\u001b[0;34m)\u001b[0m \u001b[0;32mand\u001b[0m \u001b[0misinstance\u001b[0m\u001b[0;34m(\u001b[0m\u001b[0mmapped\u001b[0m\u001b[0;34m[\u001b[0m\u001b[0;36m0\u001b[0m\u001b[0;34m]\u001b[0m\u001b[0;34m,\u001b[0m \u001b[0mSeries\u001b[0m\u001b[0;34m)\u001b[0m\u001b[0;34m:\u001b[0m\u001b[0;34m\u001b[0m\u001b[0;34m\u001b[0m\u001b[0m\n",
      "\u001b[0;32mpandas/_libs/lib.pyx\u001b[0m in \u001b[0;36mpandas._libs.lib.map_infer\u001b[0;34m()\u001b[0m\n",
      "\u001b[0;32m<ipython-input-13-0fc259d89328>\u001b[0m in \u001b[0;36m<lambda>\u001b[0;34m(n)\u001b[0m\n\u001b[0;32m----> 1\u001b[0;31m \u001b[0mhot_main\u001b[0m\u001b[0;34m[\u001b[0m\u001b[0;34m'tags_count'\u001b[0m\u001b[0;34m]\u001b[0m\u001b[0;34m=\u001b[0m\u001b[0mhot_main\u001b[0m\u001b[0;34m[\u001b[0m\u001b[0;34m'tags'\u001b[0m\u001b[0;34m]\u001b[0m\u001b[0;34m.\u001b[0m\u001b[0mapply\u001b[0m\u001b[0;34m(\u001b[0m\u001b[0;32mlambda\u001b[0m \u001b[0mn\u001b[0m\u001b[0;34m:\u001b[0m \u001b[0mlen\u001b[0m\u001b[0;34m(\u001b[0m\u001b[0mn\u001b[0m\u001b[0;34m.\u001b[0m\u001b[0msplit\u001b[0m\u001b[0;34m(\u001b[0m\u001b[0;34m','\u001b[0m\u001b[0;34m)\u001b[0m\u001b[0;34m)\u001b[0m\u001b[0;34m)\u001b[0m\u001b[0;34m\u001b[0m\u001b[0;34m\u001b[0m\u001b[0m\n\u001b[0m\u001b[1;32m      2\u001b[0m \u001b[0mhot_main\u001b[0m\u001b[0;34m[\u001b[0m\u001b[0;34m[\u001b[0m\u001b[0;34m'tags'\u001b[0m\u001b[0;34m,\u001b[0m\u001b[0;34m'tags_count'\u001b[0m\u001b[0;34m]\u001b[0m\u001b[0;34m]\u001b[0m\u001b[0;34m.\u001b[0m\u001b[0mhead\u001b[0m\u001b[0;34m(\u001b[0m\u001b[0;36m25\u001b[0m\u001b[0;34m)\u001b[0m\u001b[0;34m\u001b[0m\u001b[0;34m\u001b[0m\u001b[0m\n",
      "\u001b[0;31mAttributeError\u001b[0m: 'float' object has no attribute 'split'"
     ]
    }
   ],
   "source": [
    "hot_main['tags_count']=hot_main['tags'].apply(lambda n: len(n.split(',')))\n",
    "hot_main[['tags','tags_count']].head(25)"
   ]
  },
  {
   "cell_type": "markdown",
   "id": "554db684-0b90-4374-8dcd-03461ccc12c8",
   "metadata": {},
   "source": [
    "##### Test Code initially used for merging on title but figured out how to add id instead to merge the above dfs"
   ]
  },
  {
   "cell_type": "code",
   "execution_count": 49,
   "id": "60ba7094-31a2-442d-8a87-87237ca392ec",
   "metadata": {},
   "outputs": [],
   "source": [
    "import recordlinkage"
   ]
  },
  {
   "cell_type": "code",
   "execution_count": 51,
   "id": "3c068af9-0003-4ce4-a034-7f14b0f9c790",
   "metadata": {},
   "outputs": [],
   "source": [
    "#Create indexing object\n",
    "indexer=recordlinkage.Index()\n",
    "\n",
    "#Generate pairs blocked on title\n",
    "indexer.block('title')\n",
    "pairs=indexer.index(hot_news,hnews)\n",
    "\n",
    "#Creating a compare object\n",
    "compare_cl=recordlinkage.Compare()\n",
    "\n",
    "compare_cl.string('title','title',threshold=0.95,label='title')\n",
    "\n",
    "#find matches\n",
    "potential_matches=compare_cl.compute(pairs,hot_news,hnews)"
   ]
  },
  {
   "cell_type": "code",
   "execution_count": 52,
   "id": "57371145-afc5-4e18-a2e9-03cddc331bce",
   "metadata": {},
   "outputs": [
    {
     "data": {
      "text/plain": [
       "count    10143.0\n",
       "mean         1.0\n",
       "std          0.0\n",
       "min          1.0\n",
       "25%          1.0\n",
       "50%          1.0\n",
       "75%          1.0\n",
       "max          1.0\n",
       "Name: title, dtype: float64"
      ]
     },
     "execution_count": 52,
     "metadata": {},
     "output_type": "execute_result"
    }
   ],
   "source": [
    "potential_matches['title'].describe()"
   ]
  },
  {
   "cell_type": "code",
   "execution_count": 59,
   "id": "9aba72ba-5d5e-43f0-838a-782a3923c342",
   "metadata": {},
   "outputs": [],
   "source": [
    "import numpy as np\n",
    "import joblib,fuzzywuzzy\n",
    "from fuzzywuzzy import fuzz,process\n",
    "from joblib import Parallel,delayed"
   ]
  },
  {
   "cell_type": "code",
   "execution_count": 60,
   "id": "77c72ac4-a1a7-44b2-9cc0-c9fba80422fd",
   "metadata": {},
   "outputs": [
    {
     "name": "stderr",
     "output_type": "stream",
     "text": [
      "[Parallel(n_jobs=-1)]: Using backend LokyBackend with 8 concurrent workers.\n",
      "[Parallel(n_jobs=-1)]: Done  34 tasks      | elapsed:    5.7s\n",
      "[Parallel(n_jobs=-1)]: Done 184 tasks      | elapsed:   14.1s\n",
      "[Parallel(n_jobs=-1)]: Done 434 tasks      | elapsed:   28.9s\n",
      "[Parallel(n_jobs=-1)]: Done 784 tasks      | elapsed:   47.8s\n",
      "[Parallel(n_jobs=-1)]: Done 1234 tasks      | elapsed:  1.4min\n",
      "[Parallel(n_jobs=-1)]: Done 1784 tasks      | elapsed:  2.5min\n",
      "[Parallel(n_jobs=-1)]: Done 2434 tasks      | elapsed:  3.7min\n",
      "[Parallel(n_jobs=-1)]: Done 3184 tasks      | elapsed:  5.1min\n",
      "[Parallel(n_jobs=-1)]: Done 4034 tasks      | elapsed:  6.8min\n",
      "[Parallel(n_jobs=-1)]: Done 4984 tasks      | elapsed:  8.6min\n",
      "[Parallel(n_jobs=-1)]: Done 6034 tasks      | elapsed: 10.6min\n",
      "[Parallel(n_jobs=-1)]: Done 7184 tasks      | elapsed: 12.9min\n",
      "[Parallel(n_jobs=-1)]: Done 8434 tasks      | elapsed: 15.3min\n",
      "[Parallel(n_jobs=-1)]: Done 9784 tasks      | elapsed: 17.7min\n",
      "[Parallel(n_jobs=-1)]: Done 11234 tasks      | elapsed: 20.5min\n",
      "[Parallel(n_jobs=-1)]: Done 12408 out of 12408 | elapsed: 22.7min finished\n"
     ]
    }
   ],
   "source": [
    "metric = fuzz.token_sort_ratio\n",
    "\n",
    "thresh=85\n",
    "\n",
    "ca=np.array(hot_news[['title']])\n",
    "cb=np.array(hnews[['title']])\n",
    "\n",
    "def parallel_fuzzy_match(idxa,idxb):\n",
    "    return [ca[idxa][0],cb[idxb][0],metric(ca[idxa][0],cb[idxb][0])]  \n",
    "\n",
    "results = Parallel(n_jobs=-1,verbose=1)(delayed(parallel_fuzzy_match)(idx1, idx2) for idx1 in range(len(ca)) for idx2 in range(len(cb)) \\\n",
    "                   if(metric(ca[idx1][0],cb[idx2][0]) > thresh))"
   ]
  },
  {
   "cell_type": "code",
   "execution_count": 71,
   "id": "5ad459dd-fab7-42fd-b60e-3b2fbb478127",
   "metadata": {},
   "outputs": [
    {
     "data": {
      "text/html": [
       "<div>\n",
       "<style scoped>\n",
       "    .dataframe tbody tr th:only-of-type {\n",
       "        vertical-align: middle;\n",
       "    }\n",
       "\n",
       "    .dataframe tbody tr th {\n",
       "        vertical-align: top;\n",
       "    }\n",
       "\n",
       "    .dataframe thead th {\n",
       "        text-align: right;\n",
       "    }\n",
       "</style>\n",
       "<table border=\"1\" class=\"dataframe\">\n",
       "  <thead>\n",
       "    <tr style=\"text-align: right;\">\n",
       "      <th></th>\n",
       "      <th>title_a</th>\n",
       "      <th>title_b</th>\n",
       "      <th>Score</th>\n",
       "    </tr>\n",
       "  </thead>\n",
       "  <tbody>\n",
       "    <tr>\n",
       "      <th>0</th>\n",
       "      <td>2020 Tokyo Olympics Megathread</td>\n",
       "      <td>2020 Tokyo Olympics Megathread</td>\n",
       "      <td>100</td>\n",
       "    </tr>\n",
       "    <tr>\n",
       "      <th>1</th>\n",
       "      <td>2020 Tokyo Olympics Megathread</td>\n",
       "      <td>r/news - 2020 Tokyo Olympics Megathread</td>\n",
       "      <td>90</td>\n",
       "    </tr>\n",
       "    <tr>\n",
       "      <th>2</th>\n",
       "      <td>New Jersey hospital fires 6 employees who did ...</td>\n",
       "      <td>New Jersey hospital system fires 6 employees w...</td>\n",
       "      <td>95</td>\n",
       "    </tr>\n",
       "    <tr>\n",
       "      <th>3</th>\n",
       "      <td>New Jersey hospital fires 6 employees who did ...</td>\n",
       "      <td>New Jersey hospital system fires 6 employees w...</td>\n",
       "      <td>95</td>\n",
       "    </tr>\n",
       "    <tr>\n",
       "      <th>4</th>\n",
       "      <td>Yosemite park ranger shares heartbreaking plea...</td>\n",
       "      <td>Yosemite park ranger shares heartbreaking plea...</td>\n",
       "      <td>100</td>\n",
       "    </tr>\n",
       "  </tbody>\n",
       "</table>\n",
       "</div>"
      ],
      "text/plain": [
       "                                             title_a  \\\n",
       "0                     2020 Tokyo Olympics Megathread   \n",
       "1                     2020 Tokyo Olympics Megathread   \n",
       "2  New Jersey hospital fires 6 employees who did ...   \n",
       "3  New Jersey hospital fires 6 employees who did ...   \n",
       "4  Yosemite park ranger shares heartbreaking plea...   \n",
       "\n",
       "                                             title_b  Score  \n",
       "0                     2020 Tokyo Olympics Megathread    100  \n",
       "1            r/news - 2020 Tokyo Olympics Megathread     90  \n",
       "2  New Jersey hospital system fires 6 employees w...     95  \n",
       "3  New Jersey hospital system fires 6 employees w...     95  \n",
       "4  Yosemite park ranger shares heartbreaking plea...    100  "
      ]
     },
     "execution_count": 71,
     "metadata": {},
     "output_type": "execute_result"
    }
   ],
   "source": [
    "results = pd.DataFrame(results,columns = [\"title_a\",\"title_b\",\"Score\"])\n",
    "results.head()"
   ]
  },
  {
   "cell_type": "markdown",
   "id": "edc074d6-3960-4ca5-b264-4faf7179b7d2",
   "metadata": {},
   "source": [
    "#### End of test code"
   ]
  },
  {
   "cell_type": "markdown",
   "id": "b79350fc-ce26-450e-b1a4-cc47ce51c2a7",
   "metadata": {},
   "source": [
    "### LIWC DIMENSIONALITY REDUCTION"
   ]
  },
  {
   "cell_type": "code",
   "execution_count": 19,
   "id": "fac40f44-0bb1-4faf-b38b-9adeaf197f5f",
   "metadata": {},
   "outputs": [
    {
     "data": {
      "text/html": [
       "<div>\n",
       "<style scoped>\n",
       "    .dataframe tbody tr th:only-of-type {\n",
       "        vertical-align: middle;\n",
       "    }\n",
       "\n",
       "    .dataframe tbody tr th {\n",
       "        vertical-align: top;\n",
       "    }\n",
       "\n",
       "    .dataframe thead th {\n",
       "        text-align: right;\n",
       "    }\n",
       "</style>\n",
       "<table border=\"1\" class=\"dataframe\">\n",
       "  <thead>\n",
       "    <tr style=\"text-align: right;\">\n",
       "      <th></th>\n",
       "      <th>WC</th>\n",
       "      <th>Analytic</th>\n",
       "      <th>Clout</th>\n",
       "      <th>Authentic</th>\n",
       "      <th>Tone</th>\n",
       "      <th>WPS</th>\n",
       "      <th>Sixltr</th>\n",
       "      <th>Dic</th>\n",
       "      <th>function</th>\n",
       "      <th>pronoun</th>\n",
       "      <th>...</th>\n",
       "      <th>Comma</th>\n",
       "      <th>Colon</th>\n",
       "      <th>SemiC</th>\n",
       "      <th>QMark</th>\n",
       "      <th>Exclam</th>\n",
       "      <th>Dash</th>\n",
       "      <th>Quote</th>\n",
       "      <th>Apostro</th>\n",
       "      <th>Parenth</th>\n",
       "      <th>OtherP</th>\n",
       "    </tr>\n",
       "  </thead>\n",
       "  <tbody>\n",
       "    <tr>\n",
       "      <th>0</th>\n",
       "      <td>174.0</td>\n",
       "      <td>98.36</td>\n",
       "      <td>69.76</td>\n",
       "      <td>44.14</td>\n",
       "      <td>25.77</td>\n",
       "      <td>24.86</td>\n",
       "      <td>27.01</td>\n",
       "      <td>67.24</td>\n",
       "      <td>35.06</td>\n",
       "      <td>4.02</td>\n",
       "      <td>...</td>\n",
       "      <td>5.17</td>\n",
       "      <td>0.00</td>\n",
       "      <td>0.57</td>\n",
       "      <td>0.0</td>\n",
       "      <td>0.0</td>\n",
       "      <td>1.72</td>\n",
       "      <td>1.15</td>\n",
       "      <td>1.15</td>\n",
       "      <td>1.15</td>\n",
       "      <td>2.30</td>\n",
       "    </tr>\n",
       "    <tr>\n",
       "      <th>1</th>\n",
       "      <td>193.0</td>\n",
       "      <td>96.32</td>\n",
       "      <td>76.59</td>\n",
       "      <td>12.13</td>\n",
       "      <td>1.45</td>\n",
       "      <td>21.44</td>\n",
       "      <td>22.28</td>\n",
       "      <td>73.58</td>\n",
       "      <td>44.56</td>\n",
       "      <td>8.81</td>\n",
       "      <td>...</td>\n",
       "      <td>7.77</td>\n",
       "      <td>0.00</td>\n",
       "      <td>0.00</td>\n",
       "      <td>0.0</td>\n",
       "      <td>0.0</td>\n",
       "      <td>2.07</td>\n",
       "      <td>3.11</td>\n",
       "      <td>1.55</td>\n",
       "      <td>1.04</td>\n",
       "      <td>1.04</td>\n",
       "    </tr>\n",
       "    <tr>\n",
       "      <th>2</th>\n",
       "      <td>300.0</td>\n",
       "      <td>97.80</td>\n",
       "      <td>76.83</td>\n",
       "      <td>52.22</td>\n",
       "      <td>20.70</td>\n",
       "      <td>18.75</td>\n",
       "      <td>24.67</td>\n",
       "      <td>79.67</td>\n",
       "      <td>43.00</td>\n",
       "      <td>3.67</td>\n",
       "      <td>...</td>\n",
       "      <td>9.00</td>\n",
       "      <td>0.33</td>\n",
       "      <td>1.00</td>\n",
       "      <td>0.0</td>\n",
       "      <td>0.0</td>\n",
       "      <td>0.33</td>\n",
       "      <td>0.67</td>\n",
       "      <td>1.67</td>\n",
       "      <td>0.00</td>\n",
       "      <td>0.00</td>\n",
       "    </tr>\n",
       "    <tr>\n",
       "      <th>3</th>\n",
       "      <td>495.0</td>\n",
       "      <td>91.40</td>\n",
       "      <td>83.90</td>\n",
       "      <td>6.95</td>\n",
       "      <td>44.24</td>\n",
       "      <td>21.52</td>\n",
       "      <td>24.85</td>\n",
       "      <td>76.97</td>\n",
       "      <td>44.44</td>\n",
       "      <td>7.68</td>\n",
       "      <td>...</td>\n",
       "      <td>4.85</td>\n",
       "      <td>0.00</td>\n",
       "      <td>0.00</td>\n",
       "      <td>0.0</td>\n",
       "      <td>0.0</td>\n",
       "      <td>1.62</td>\n",
       "      <td>6.06</td>\n",
       "      <td>1.62</td>\n",
       "      <td>0.00</td>\n",
       "      <td>0.00</td>\n",
       "    </tr>\n",
       "    <tr>\n",
       "      <th>4</th>\n",
       "      <td>187.0</td>\n",
       "      <td>99.00</td>\n",
       "      <td>47.86</td>\n",
       "      <td>66.34</td>\n",
       "      <td>11.81</td>\n",
       "      <td>20.78</td>\n",
       "      <td>21.93</td>\n",
       "      <td>68.45</td>\n",
       "      <td>36.36</td>\n",
       "      <td>0.53</td>\n",
       "      <td>...</td>\n",
       "      <td>9.09</td>\n",
       "      <td>0.00</td>\n",
       "      <td>0.00</td>\n",
       "      <td>0.0</td>\n",
       "      <td>0.0</td>\n",
       "      <td>1.60</td>\n",
       "      <td>0.00</td>\n",
       "      <td>2.67</td>\n",
       "      <td>0.00</td>\n",
       "      <td>0.00</td>\n",
       "    </tr>\n",
       "  </tbody>\n",
       "</table>\n",
       "<p>5 rows × 93 columns</p>\n",
       "</div>"
      ],
      "text/plain": [
       "      WC  Analytic  Clout  Authentic   Tone    WPS  Sixltr    Dic  function  \\\n",
       "0  174.0     98.36  69.76      44.14  25.77  24.86   27.01  67.24     35.06   \n",
       "1  193.0     96.32  76.59      12.13   1.45  21.44   22.28  73.58     44.56   \n",
       "2  300.0     97.80  76.83      52.22  20.70  18.75   24.67  79.67     43.00   \n",
       "3  495.0     91.40  83.90       6.95  44.24  21.52   24.85  76.97     44.44   \n",
       "4  187.0     99.00  47.86      66.34  11.81  20.78   21.93  68.45     36.36   \n",
       "\n",
       "   pronoun  ...  Comma  Colon  SemiC  QMark  Exclam  Dash  Quote  Apostro  \\\n",
       "0     4.02  ...   5.17   0.00   0.57    0.0     0.0  1.72   1.15     1.15   \n",
       "1     8.81  ...   7.77   0.00   0.00    0.0     0.0  2.07   3.11     1.55   \n",
       "2     3.67  ...   9.00   0.33   1.00    0.0     0.0  0.33   0.67     1.67   \n",
       "3     7.68  ...   4.85   0.00   0.00    0.0     0.0  1.62   6.06     1.62   \n",
       "4     0.53  ...   9.09   0.00   0.00    0.0     0.0  1.60   0.00     2.67   \n",
       "\n",
       "   Parenth  OtherP  \n",
       "0     1.15    2.30  \n",
       "1     1.04    1.04  \n",
       "2     0.00    0.00  \n",
       "3     0.00    0.00  \n",
       "4     0.00    0.00  \n",
       "\n",
       "[5 rows x 93 columns]"
      ]
     },
     "execution_count": 19,
     "metadata": {},
     "output_type": "execute_result"
    }
   ],
   "source": [
    "liwc=pd.read_csv('/Users/adityaravindrabhat/Documents/GitHub/engagement_models/Datasets/MetaAndTextDatasets/hot_news/LIWC_hot_news_body.csv')\n",
    "#id and text columns are removed as they are only used for reference and not needed for PCA\n",
    "liwc=liwc.drop(['id','text'],axis=1)\n",
    "liwc.head()"
   ]
  },
  {
   "cell_type": "code",
   "execution_count": 33,
   "id": "b4ff8a6a-52c0-424b-bdf6-980573d2643d",
   "metadata": {},
   "outputs": [
    {
     "name": "stdout",
     "output_type": "stream",
     "text": [
      "59 components selected\n"
     ]
    }
   ],
   "source": [
    "pipe=Pipeline([('scaler',StandardScaler()),\n",
    "               ('reducer',PCA(n_components=0.95))])\n",
    "pipe.fit(liwc)\n",
    "print('{} components selected'.format(len(pipe.steps[1][1].components_)))"
   ]
  },
  {
   "cell_type": "code",
   "execution_count": 35,
   "id": "5252ab33-5832-4ae4-8136-a83e5ea4f33e",
   "metadata": {},
   "outputs": [
    {
     "data": {
      "image/png": "[encoded data removed]",
      "text/plain": [
       "<Figure size 432x288 with 1 Axes>"
      ]
     },
     "metadata": {
      "needs_background": "light"
     },
     "output_type": "display_data"
    }
   ],
   "source": [
    "plt.plot(pipe.steps[1][1].explained_variance_ratio_)\n",
    "plt.xlabel('Principal component index')\n",
    "plt.ylabel('Explained variance ratio')\n",
    "plt.show()"
   ]
  },
  {
   "cell_type": "code",
   "execution_count": 34,
   "id": "9455bff2-54ff-453f-9672-d4ac18b4e621",
   "metadata": {},
   "outputs": [
    {
     "name": "stdout",
     "output_type": "stream",
     "text": [
      "[0.11205117 0.18393705 0.2389971  0.29083744 0.32777884 0.35903642\n",
      " 0.38969558 0.41447566 0.43804102 0.46074119 0.48253678 0.50150512\n",
      " 0.51931452 0.53631893 0.55287405 0.56830988 0.58319678 0.59742489\n",
      " 0.61142937 0.62461601 0.63735786 0.64979418 0.66213636 0.67422745\n",
      " 0.6857133  0.69708619 0.70819054 0.71907972 0.72945522 0.73980072\n",
      " 0.75010031 0.76012693 0.76964998 0.77898444 0.7881264  0.79716672\n",
      " 0.80601878 0.81474328 0.82306191 0.83123398 0.83927124 0.84708728\n",
      " 0.85483578 0.86227953 0.86940783 0.87645133 0.88328721 0.88980711\n",
      " 0.89616413 0.90242366 0.9086146  0.91439062 0.91996825 0.9253828\n",
      " 0.93074285 0.93600073 0.94099438 0.94578759 0.95041805]\n"
     ]
    }
   ],
   "source": [
    "# Build the pipeline\n",
    "pipe = Pipeline([('scaler', StandardScaler()),\n",
    "                 ('reducer', PCA(n_components=59))])\n",
    "\n",
    "# Fit it to the dataset and extract the component vectors\n",
    "pipe.fit(liwc)\n",
    "vectors = pipe.steps[1][1].explained_variance_ratio_.cumsum()\n",
    "print(vectors)\n",
    "\n",
    "# Print feature effects\n",
    "#print('PC 1 effects = ' + str(dict(zip(poke_df.columns, vectors[0]))))\n",
    "#print('PC 2 effects = ' + str(dict(zip(poke_df.columns, vectors[1]))))"
   ]
  },
  {
   "cell_type": "code",
   "execution_count": 9,
   "id": "b4e0c1e8-5e1a-4b51-ac86-7006b3fced45",
   "metadata": {},
   "outputs": [],
   "source": [
    "liwc_new_news=pd.read_csv('/Users/adityaravindrabhat/Documents/GitHub/engagement_models/Datasets/MetaAndTextDatasets/new_news/LIWC_new_news_body.csv')\n"
   ]
  },
  {
   "cell_type": "code",
   "execution_count": 10,
   "id": "e380c9f8-1903-47f9-a81b-b0943e1a84f3",
   "metadata": {},
   "outputs": [
    {
     "data": {
      "text/html": [
       "<div>\n",
       "<style scoped>\n",
       "    .dataframe tbody tr th:only-of-type {\n",
       "        vertical-align: middle;\n",
       "    }\n",
       "\n",
       "    .dataframe tbody tr th {\n",
       "        vertical-align: top;\n",
       "    }\n",
       "\n",
       "    .dataframe thead th {\n",
       "        text-align: right;\n",
       "    }\n",
       "</style>\n",
       "<table border=\"1\" class=\"dataframe\">\n",
       "  <thead>\n",
       "    <tr style=\"text-align: right;\">\n",
       "      <th></th>\n",
       "      <th>WC</th>\n",
       "      <th>Analytic</th>\n",
       "      <th>Clout</th>\n",
       "      <th>Authentic</th>\n",
       "      <th>Tone</th>\n",
       "      <th>WPS</th>\n",
       "      <th>Sixltr</th>\n",
       "      <th>Dic</th>\n",
       "      <th>function</th>\n",
       "      <th>pronoun</th>\n",
       "      <th>...</th>\n",
       "      <th>Comma</th>\n",
       "      <th>Colon</th>\n",
       "      <th>SemiC</th>\n",
       "      <th>QMark</th>\n",
       "      <th>Exclam</th>\n",
       "      <th>Dash</th>\n",
       "      <th>Quote</th>\n",
       "      <th>Apostro</th>\n",
       "      <th>Parenth</th>\n",
       "      <th>OtherP</th>\n",
       "    </tr>\n",
       "  </thead>\n",
       "  <tbody>\n",
       "    <tr>\n",
       "      <th>0</th>\n",
       "      <td>501.0</td>\n",
       "      <td>90.98</td>\n",
       "      <td>71.86</td>\n",
       "      <td>8.53</td>\n",
       "      <td>14.70</td>\n",
       "      <td>26.37</td>\n",
       "      <td>24.75</td>\n",
       "      <td>78.64</td>\n",
       "      <td>47.90</td>\n",
       "      <td>9.18</td>\n",
       "      <td>...</td>\n",
       "      <td>6.19</td>\n",
       "      <td>0.00</td>\n",
       "      <td>0.0</td>\n",
       "      <td>0.0</td>\n",
       "      <td>0.0</td>\n",
       "      <td>0.80</td>\n",
       "      <td>3.99</td>\n",
       "      <td>1.40</td>\n",
       "      <td>0.00</td>\n",
       "      <td>0.2</td>\n",
       "    </tr>\n",
       "    <tr>\n",
       "      <th>1</th>\n",
       "      <td>157.0</td>\n",
       "      <td>67.36</td>\n",
       "      <td>83.04</td>\n",
       "      <td>10.21</td>\n",
       "      <td>89.62</td>\n",
       "      <td>22.43</td>\n",
       "      <td>19.75</td>\n",
       "      <td>81.53</td>\n",
       "      <td>55.41</td>\n",
       "      <td>11.46</td>\n",
       "      <td>...</td>\n",
       "      <td>6.37</td>\n",
       "      <td>0.64</td>\n",
       "      <td>0.0</td>\n",
       "      <td>0.0</td>\n",
       "      <td>0.0</td>\n",
       "      <td>0.64</td>\n",
       "      <td>7.64</td>\n",
       "      <td>1.27</td>\n",
       "      <td>1.27</td>\n",
       "      <td>0.0</td>\n",
       "    </tr>\n",
       "    <tr>\n",
       "      <th>2</th>\n",
       "      <td>268.0</td>\n",
       "      <td>95.36</td>\n",
       "      <td>80.45</td>\n",
       "      <td>32.55</td>\n",
       "      <td>2.57</td>\n",
       "      <td>22.33</td>\n",
       "      <td>20.90</td>\n",
       "      <td>83.58</td>\n",
       "      <td>51.87</td>\n",
       "      <td>7.09</td>\n",
       "      <td>...</td>\n",
       "      <td>5.60</td>\n",
       "      <td>0.00</td>\n",
       "      <td>0.0</td>\n",
       "      <td>0.0</td>\n",
       "      <td>0.0</td>\n",
       "      <td>0.75</td>\n",
       "      <td>2.99</td>\n",
       "      <td>0.00</td>\n",
       "      <td>0.75</td>\n",
       "      <td>0.0</td>\n",
       "    </tr>\n",
       "    <tr>\n",
       "      <th>3</th>\n",
       "      <td>149.0</td>\n",
       "      <td>93.26</td>\n",
       "      <td>44.67</td>\n",
       "      <td>77.35</td>\n",
       "      <td>9.34</td>\n",
       "      <td>21.29</td>\n",
       "      <td>22.15</td>\n",
       "      <td>73.15</td>\n",
       "      <td>43.62</td>\n",
       "      <td>4.70</td>\n",
       "      <td>...</td>\n",
       "      <td>6.71</td>\n",
       "      <td>0.00</td>\n",
       "      <td>0.0</td>\n",
       "      <td>0.0</td>\n",
       "      <td>0.0</td>\n",
       "      <td>2.01</td>\n",
       "      <td>1.34</td>\n",
       "      <td>1.34</td>\n",
       "      <td>0.00</td>\n",
       "      <td>0.0</td>\n",
       "    </tr>\n",
       "    <tr>\n",
       "      <th>4</th>\n",
       "      <td>446.0</td>\n",
       "      <td>91.93</td>\n",
       "      <td>90.69</td>\n",
       "      <td>29.18</td>\n",
       "      <td>9.31</td>\n",
       "      <td>17.84</td>\n",
       "      <td>21.30</td>\n",
       "      <td>80.04</td>\n",
       "      <td>45.74</td>\n",
       "      <td>10.76</td>\n",
       "      <td>...</td>\n",
       "      <td>5.83</td>\n",
       "      <td>0.45</td>\n",
       "      <td>0.0</td>\n",
       "      <td>0.0</td>\n",
       "      <td>0.0</td>\n",
       "      <td>0.67</td>\n",
       "      <td>2.24</td>\n",
       "      <td>1.35</td>\n",
       "      <td>0.00</td>\n",
       "      <td>0.0</td>\n",
       "    </tr>\n",
       "  </tbody>\n",
       "</table>\n",
       "<p>5 rows × 93 columns</p>\n",
       "</div>"
      ],
      "text/plain": [
       "      WC  Analytic  Clout  Authentic   Tone    WPS  Sixltr    Dic  function  \\\n",
       "0  501.0     90.98  71.86       8.53  14.70  26.37   24.75  78.64     47.90   \n",
       "1  157.0     67.36  83.04      10.21  89.62  22.43   19.75  81.53     55.41   \n",
       "2  268.0     95.36  80.45      32.55   2.57  22.33   20.90  83.58     51.87   \n",
       "3  149.0     93.26  44.67      77.35   9.34  21.29   22.15  73.15     43.62   \n",
       "4  446.0     91.93  90.69      29.18   9.31  17.84   21.30  80.04     45.74   \n",
       "\n",
       "   pronoun  ...  Comma  Colon  SemiC  QMark  Exclam  Dash  Quote  Apostro  \\\n",
       "0     9.18  ...   6.19   0.00    0.0    0.0     0.0  0.80   3.99     1.40   \n",
       "1    11.46  ...   6.37   0.64    0.0    0.0     0.0  0.64   7.64     1.27   \n",
       "2     7.09  ...   5.60   0.00    0.0    0.0     0.0  0.75   2.99     0.00   \n",
       "3     4.70  ...   6.71   0.00    0.0    0.0     0.0  2.01   1.34     1.34   \n",
       "4    10.76  ...   5.83   0.45    0.0    0.0     0.0  0.67   2.24     1.35   \n",
       "\n",
       "   Parenth  OtherP  \n",
       "0     0.00     0.2  \n",
       "1     1.27     0.0  \n",
       "2     0.75     0.0  \n",
       "3     0.00     0.0  \n",
       "4     0.00     0.0  \n",
       "\n",
       "[5 rows x 93 columns]"
      ]
     },
     "execution_count": 10,
     "metadata": {},
     "output_type": "execute_result"
    }
   ],
   "source": [
    "liwc_new_news=liwc_new_news.drop(['id','text'],axis=1)\n",
    "liwc_new_news=liwc_new_news.dropna()\n",
    "liwc_new_news.head()"
   ]
  },
  {
   "cell_type": "code",
   "execution_count": 11,
   "id": "486200ad-a2c3-49c9-98aa-317a33e7ae29",
   "metadata": {},
   "outputs": [
    {
     "name": "stdout",
     "output_type": "stream",
     "text": [
      "59 components selected\n"
     ]
    }
   ],
   "source": [
    "pipe=Pipeline([('scaler',StandardScaler()),\n",
    "               ('reducer',PCA(n_components=0.95))])\n",
    "pipe.fit(liwc_new_news)\n",
    "print('{} components selected'.format(len(pipe.steps[1][1].components_)))"
   ]
  },
  {
   "cell_type": "code",
   "execution_count": 12,
   "id": "9c732d1b-d2ac-4add-b520-0dbe92d10b43",
   "metadata": {},
   "outputs": [
    {
     "data": {
      "image/png": "[encoded data removed]",
      "text/plain": [
       "<Figure size 432x288 with 1 Axes>"
      ]
     },
     "metadata": {
      "needs_background": "light"
     },
     "output_type": "display_data"
    }
   ],
   "source": [
    "plt.plot(pipe.steps[1][1].explained_variance_ratio_)\n",
    "plt.xlabel('Principal component index')\n",
    "plt.ylabel('Explained variance ratio')\n",
    "plt.show()"
   ]
  },
  {
   "cell_type": "code",
   "execution_count": 13,
   "id": "afc271b0-e8cb-4cac-ad40-192a18de34ed",
   "metadata": {},
   "outputs": [
    {
     "data": {
      "text/html": [
       "<div>\n",
       "<style scoped>\n",
       "    .dataframe tbody tr th:only-of-type {\n",
       "        vertical-align: middle;\n",
       "    }\n",
       "\n",
       "    .dataframe tbody tr th {\n",
       "        vertical-align: top;\n",
       "    }\n",
       "\n",
       "    .dataframe thead th {\n",
       "        text-align: right;\n",
       "    }\n",
       "</style>\n",
       "<table border=\"1\" class=\"dataframe\">\n",
       "  <thead>\n",
       "    <tr style=\"text-align: right;\">\n",
       "      <th></th>\n",
       "      <th>WC</th>\n",
       "      <th>Analytic</th>\n",
       "      <th>Clout</th>\n",
       "      <th>Authentic</th>\n",
       "      <th>Tone</th>\n",
       "      <th>WPS</th>\n",
       "      <th>Sixltr</th>\n",
       "      <th>Dic</th>\n",
       "      <th>function</th>\n",
       "      <th>pronoun</th>\n",
       "      <th>...</th>\n",
       "      <th>Comma</th>\n",
       "      <th>Colon</th>\n",
       "      <th>SemiC</th>\n",
       "      <th>QMark</th>\n",
       "      <th>Exclam</th>\n",
       "      <th>Dash</th>\n",
       "      <th>Quote</th>\n",
       "      <th>Apostro</th>\n",
       "      <th>Parenth</th>\n",
       "      <th>OtherP</th>\n",
       "    </tr>\n",
       "  </thead>\n",
       "  <tbody>\n",
       "    <tr>\n",
       "      <th>0</th>\n",
       "      <td>285.0</td>\n",
       "      <td>79.38</td>\n",
       "      <td>31.17</td>\n",
       "      <td>43.37</td>\n",
       "      <td>92.71</td>\n",
       "      <td>23.75</td>\n",
       "      <td>22.11</td>\n",
       "      <td>83.51</td>\n",
       "      <td>45.96</td>\n",
       "      <td>8.42</td>\n",
       "      <td>...</td>\n",
       "      <td>5.61</td>\n",
       "      <td>0.70</td>\n",
       "      <td>0.0</td>\n",
       "      <td>0.0</td>\n",
       "      <td>0.00</td>\n",
       "      <td>0.70</td>\n",
       "      <td>0.00</td>\n",
       "      <td>2.46</td>\n",
       "      <td>0.70</td>\n",
       "      <td>3.86</td>\n",
       "    </tr>\n",
       "    <tr>\n",
       "      <th>1</th>\n",
       "      <td>744.0</td>\n",
       "      <td>90.71</td>\n",
       "      <td>80.51</td>\n",
       "      <td>15.00</td>\n",
       "      <td>58.83</td>\n",
       "      <td>41.33</td>\n",
       "      <td>23.39</td>\n",
       "      <td>80.11</td>\n",
       "      <td>45.16</td>\n",
       "      <td>11.42</td>\n",
       "      <td>...</td>\n",
       "      <td>3.76</td>\n",
       "      <td>0.94</td>\n",
       "      <td>0.0</td>\n",
       "      <td>0.0</td>\n",
       "      <td>0.00</td>\n",
       "      <td>2.82</td>\n",
       "      <td>0.54</td>\n",
       "      <td>1.88</td>\n",
       "      <td>0.54</td>\n",
       "      <td>1.75</td>\n",
       "    </tr>\n",
       "    <tr>\n",
       "      <th>2</th>\n",
       "      <td>110.0</td>\n",
       "      <td>42.39</td>\n",
       "      <td>76.64</td>\n",
       "      <td>72.26</td>\n",
       "      <td>87.86</td>\n",
       "      <td>13.75</td>\n",
       "      <td>10.00</td>\n",
       "      <td>88.18</td>\n",
       "      <td>51.82</td>\n",
       "      <td>9.09</td>\n",
       "      <td>...</td>\n",
       "      <td>3.64</td>\n",
       "      <td>0.00</td>\n",
       "      <td>0.0</td>\n",
       "      <td>0.0</td>\n",
       "      <td>0.00</td>\n",
       "      <td>0.91</td>\n",
       "      <td>0.00</td>\n",
       "      <td>2.73</td>\n",
       "      <td>1.82</td>\n",
       "      <td>1.82</td>\n",
       "    </tr>\n",
       "    <tr>\n",
       "      <th>3</th>\n",
       "      <td>82.0</td>\n",
       "      <td>57.53</td>\n",
       "      <td>54.84</td>\n",
       "      <td>48.21</td>\n",
       "      <td>48.39</td>\n",
       "      <td>27.33</td>\n",
       "      <td>9.76</td>\n",
       "      <td>75.61</td>\n",
       "      <td>47.56</td>\n",
       "      <td>13.41</td>\n",
       "      <td>...</td>\n",
       "      <td>6.10</td>\n",
       "      <td>2.44</td>\n",
       "      <td>0.0</td>\n",
       "      <td>0.0</td>\n",
       "      <td>1.22</td>\n",
       "      <td>1.22</td>\n",
       "      <td>0.00</td>\n",
       "      <td>2.44</td>\n",
       "      <td>0.00</td>\n",
       "      <td>2.44</td>\n",
       "    </tr>\n",
       "    <tr>\n",
       "      <th>4</th>\n",
       "      <td>33.0</td>\n",
       "      <td>66.08</td>\n",
       "      <td>81.84</td>\n",
       "      <td>31.94</td>\n",
       "      <td>1.59</td>\n",
       "      <td>16.50</td>\n",
       "      <td>9.09</td>\n",
       "      <td>100.00</td>\n",
       "      <td>60.61</td>\n",
       "      <td>21.21</td>\n",
       "      <td>...</td>\n",
       "      <td>6.06</td>\n",
       "      <td>0.00</td>\n",
       "      <td>0.0</td>\n",
       "      <td>0.0</td>\n",
       "      <td>0.00</td>\n",
       "      <td>0.00</td>\n",
       "      <td>0.00</td>\n",
       "      <td>3.03</td>\n",
       "      <td>0.00</td>\n",
       "      <td>0.00</td>\n",
       "    </tr>\n",
       "  </tbody>\n",
       "</table>\n",
       "<p>5 rows × 93 columns</p>\n",
       "</div>"
      ],
      "text/plain": [
       "      WC  Analytic  Clout  Authentic   Tone    WPS  Sixltr     Dic  function  \\\n",
       "0  285.0     79.38  31.17      43.37  92.71  23.75   22.11   83.51     45.96   \n",
       "1  744.0     90.71  80.51      15.00  58.83  41.33   23.39   80.11     45.16   \n",
       "2  110.0     42.39  76.64      72.26  87.86  13.75   10.00   88.18     51.82   \n",
       "3   82.0     57.53  54.84      48.21  48.39  27.33    9.76   75.61     47.56   \n",
       "4   33.0     66.08  81.84      31.94   1.59  16.50    9.09  100.00     60.61   \n",
       "\n",
       "   pronoun  ...  Comma  Colon  SemiC  QMark  Exclam  Dash  Quote  Apostro  \\\n",
       "0     8.42  ...   5.61   0.70    0.0    0.0    0.00  0.70   0.00     2.46   \n",
       "1    11.42  ...   3.76   0.94    0.0    0.0    0.00  2.82   0.54     1.88   \n",
       "2     9.09  ...   3.64   0.00    0.0    0.0    0.00  0.91   0.00     2.73   \n",
       "3    13.41  ...   6.10   2.44    0.0    0.0    1.22  1.22   0.00     2.44   \n",
       "4    21.21  ...   6.06   0.00    0.0    0.0    0.00  0.00   0.00     3.03   \n",
       "\n",
       "   Parenth  OtherP  \n",
       "0     0.70    3.86  \n",
       "1     0.54    1.75  \n",
       "2     1.82    1.82  \n",
       "3     0.00    2.44  \n",
       "4     0.00    0.00  \n",
       "\n",
       "[5 rows x 93 columns]"
      ]
     },
     "execution_count": 13,
     "metadata": {},
     "output_type": "execute_result"
    }
   ],
   "source": [
    "liwc_h_crypto=pd.read_csv('/Users/adityaravindrabhat/Documents/GitHub/engagement_models/Datasets/MetaAndTextDatasets/hot_crypto/LIWC_hot_crypto_body.csv')\n",
    "liwc_h_crypto=liwc_h_crypto.drop(['id','text'],axis=1)\n",
    "liwc_h_crypto=liwc_h_crypto.dropna()\n",
    "liwc_h_crypto.head()"
   ]
  },
  {
   "cell_type": "code",
   "execution_count": 14,
   "id": "15bd477b-5eee-41a7-9843-5d5290e9b998",
   "metadata": {},
   "outputs": [
    {
     "name": "stdout",
     "output_type": "stream",
     "text": [
      "59 components selected\n"
     ]
    }
   ],
   "source": [
    "pipe=Pipeline([('scaler',StandardScaler()),\n",
    "               ('reducer',PCA(n_components=0.95))])\n",
    "pipe.fit(liwc_h_crypto)\n",
    "print('{} components selected'.format(len(pipe.steps[1][1].components_)))"
   ]
  },
  {
   "cell_type": "code",
   "execution_count": 15,
   "id": "d8b228e5-5e0b-4639-98fb-cadb0b69001e",
   "metadata": {},
   "outputs": [
    {
     "data": {
      "image/png": "[encoded data removed]",
      "text/plain": [
       "<Figure size 432x288 with 1 Axes>"
      ]
     },
     "metadata": {
      "needs_background": "light"
     },
     "output_type": "display_data"
    }
   ],
   "source": [
    "plt.plot(pipe.steps[1][1].explained_variance_ratio_)\n",
    "plt.xlabel('Principal component index')\n",
    "plt.ylabel('Explained variance ratio')\n",
    "plt.show()"
   ]
  },
  {
   "cell_type": "code",
   "execution_count": 16,
   "id": "6b518c5a-5054-4dc8-b42b-9b6dc97c7c1f",
   "metadata": {},
   "outputs": [
    {
     "data": {
      "text/plain": [
       "<Figure size 432x288 with 0 Axes>"
      ]
     },
     "metadata": {},
     "output_type": "display_data"
    }
   ],
   "source": [
    "plt.savefig('/Users/adityaravindrabhat/Documents/GitHub/engagement_models/Datasets/screenshots/liwc_pca.png')"
   ]
  },
  {
   "cell_type": "markdown",
   "id": "e7e872f1-f313-4b02-8ff6-a76e2354d33e",
   "metadata": {},
   "source": [
    "### NER ON Hot news articles"
   ]
  },
  {
   "cell_type": "code",
   "execution_count": 4,
   "id": "aa40b4a6-edea-4fc4-8077-0c3e510ba0eb",
   "metadata": {},
   "outputs": [
    {
     "data": {
      "text/html": [
       "<div>\n",
       "<style scoped>\n",
       "    .dataframe tbody tr th:only-of-type {\n",
       "        vertical-align: middle;\n",
       "    }\n",
       "\n",
       "    .dataframe tbody tr th {\n",
       "        vertical-align: top;\n",
       "    }\n",
       "\n",
       "    .dataframe thead th {\n",
       "        text-align: right;\n",
       "    }\n",
       "</style>\n",
       "<table border=\"1\" class=\"dataframe\">\n",
       "  <thead>\n",
       "    <tr style=\"text-align: right;\">\n",
       "      <th></th>\n",
       "      <th>id</th>\n",
       "      <th>body</th>\n",
       "    </tr>\n",
       "  </thead>\n",
       "  <tbody>\n",
       "    <tr>\n",
       "      <th>0</th>\n",
       "      <td>oonzyz</td>\n",
       "      <td>A ranger at Yosemite National Park is pleading...</td>\n",
       "    </tr>\n",
       "    <tr>\n",
       "      <th>1</th>\n",
       "      <td>oop5by</td>\n",
       "      <td>A federal judge on Tuesday ordered Capitol rio...</td>\n",
       "    </tr>\n",
       "    <tr>\n",
       "      <th>2</th>\n",
       "      <td>oowl4x</td>\n",
       "      <td>Weinstein has already been convicted in New Yo...</td>\n",
       "    </tr>\n",
       "    <tr>\n",
       "      <th>3</th>\n",
       "      <td>ooxkr8</td>\n",
       "      <td>HIGHLAND COUNTY, Ohio (WXIX) - A 21-year-old i...</td>\n",
       "    </tr>\n",
       "    <tr>\n",
       "      <th>4</th>\n",
       "      <td>ooubrc</td>\n",
       "      <td>\"I want this chapter in my life closed,\" Wersh...</td>\n",
       "    </tr>\n",
       "  </tbody>\n",
       "</table>\n",
       "</div>"
      ],
      "text/plain": [
       "       id                                               body\n",
       "0  oonzyz  A ranger at Yosemite National Park is pleading...\n",
       "1  oop5by  A federal judge on Tuesday ordered Capitol rio...\n",
       "2  oowl4x  Weinstein has already been convicted in New Yo...\n",
       "3  ooxkr8  HIGHLAND COUNTY, Ohio (WXIX) - A 21-year-old i...\n",
       "4  ooubrc  \"I want this chapter in my life closed,\" Wersh..."
      ]
     },
     "execution_count": 4,
     "metadata": {},
     "output_type": "execute_result"
    }
   ],
   "source": [
    "article_text=pd.read_csv('/Users/adityaravindrabhat/Documents/GitHub/engagement_models/Datasets/MetaAndTextDatasets/hot_news/hot_news_body.csv')\n",
    "article_text.head()"
   ]
  },
  {
   "cell_type": "code",
   "execution_count": null,
   "id": "4c582abc-3546-4636-a952-f824450dbd80",
   "metadata": {},
   "outputs": [],
   "source": []
  }
 ],
 "metadata": {
  "kernelspec": {
   "display_name": "Python 3",
   "language": "python",
   "name": "python3"
  },
  "language_info": {
   "codemirror_mode": {
    "name": "ipython",
    "version": 3
   },
   "file_extension": ".py",
   "mimetype": "text/x-python",
   "name": "python",
   "nbconvert_exporter": "python",
   "pygments_lexer": "ipython3",
   "version": "3.8.8"
  }
 },
 "nbformat": 4,
 "nbformat_minor": 5
}
