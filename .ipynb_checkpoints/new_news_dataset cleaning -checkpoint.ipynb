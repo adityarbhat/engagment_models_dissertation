{
 "cells": [
  {
   "cell_type": "code",
   "execution_count": 1,
   "id": "582775e7",
   "metadata": {},
   "outputs": [
    {
     "data": {
      "text/html": [
       "<div>\n",
       "<style scoped>\n",
       "    .dataframe tbody tr th:only-of-type {\n",
       "        vertical-align: middle;\n",
       "    }\n",
       "\n",
       "    .dataframe tbody tr th {\n",
       "        vertical-align: top;\n",
       "    }\n",
       "\n",
       "    .dataframe thead th {\n",
       "        text-align: right;\n",
       "    }\n",
       "</style>\n",
       "<table border=\"1\" class=\"dataframe\">\n",
       "  <thead>\n",
       "    <tr style=\"text-align: right;\">\n",
       "      <th></th>\n",
       "      <th>Rank</th>\n",
       "      <th>title</th>\n",
       "      <th>score</th>\n",
       "      <th>id</th>\n",
       "      <th>url</th>\n",
       "      <th>comms_num</th>\n",
       "      <th>author</th>\n",
       "      <th>upvote_ratio</th>\n",
       "      <th>flair</th>\n",
       "      <th>created_utc</th>\n",
       "      <th>...</th>\n",
       "      <th>no_crossposts</th>\n",
       "      <th>domain</th>\n",
       "      <th>is_crosspostable</th>\n",
       "      <th>view_count</th>\n",
       "      <th>visited</th>\n",
       "      <th>upvote</th>\n",
       "      <th>ups</th>\n",
       "      <th>is_video</th>\n",
       "      <th>link_flair_text</th>\n",
       "      <th>gilded</th>\n",
       "    </tr>\n",
       "  </thead>\n",
       "  <tbody>\n",
       "    <tr>\n",
       "      <th>0</th>\n",
       "      <td>0.0</td>\n",
       "      <td>Taliban appear to have 'strategic momentum' in...</td>\n",
       "      <td>3</td>\n",
       "      <td>op1ges</td>\n",
       "      <td>https://www.cbc.ca/news/world/us-general-afgha...</td>\n",
       "      <td>3</td>\n",
       "      <td>WHOCaresAnymoretoday</td>\n",
       "      <td>0.64</td>\n",
       "      <td>NaN</td>\n",
       "      <td>1626909153</td>\n",
       "      <td>...</td>\n",
       "      <td>0</td>\n",
       "      <td>cbc.ca</td>\n",
       "      <td>TRUE</td>\n",
       "      <td>NaN</td>\n",
       "      <td>FALSE</td>\n",
       "      <td>&lt;bound method VotableMixin.upvote of Submissio...</td>\n",
       "      <td>3</td>\n",
       "      <td>FALSE</td>\n",
       "      <td>NaN</td>\n",
       "      <td>0</td>\n",
       "    </tr>\n",
       "    <tr>\n",
       "      <th>1</th>\n",
       "      <td>1.0</td>\n",
       "      <td>Argentina introduces new ID cards for non-bina...</td>\n",
       "      <td>7</td>\n",
       "      <td>op1ern</td>\n",
       "      <td>https://www.bbc.com/news/world-latin-america-5...</td>\n",
       "      <td>4</td>\n",
       "      <td>shahin-13</td>\n",
       "      <td>0.73</td>\n",
       "      <td>NaN</td>\n",
       "      <td>1626908995</td>\n",
       "      <td>...</td>\n",
       "      <td>0</td>\n",
       "      <td>bbc.com</td>\n",
       "      <td>TRUE</td>\n",
       "      <td>NaN</td>\n",
       "      <td>FALSE</td>\n",
       "      <td>&lt;bound method VotableMixin.upvote of Submissio...</td>\n",
       "      <td>7</td>\n",
       "      <td>FALSE</td>\n",
       "      <td>NaN</td>\n",
       "      <td>0</td>\n",
       "    </tr>\n",
       "    <tr>\n",
       "      <th>2</th>\n",
       "      <td>2.0</td>\n",
       "      <td>Monkeypox: More than 200 contacts tracked in U...</td>\n",
       "      <td>22</td>\n",
       "      <td>op0wf5</td>\n",
       "      <td>https://www.bbc.co.uk/news/world-us-canada-579...</td>\n",
       "      <td>19</td>\n",
       "      <td>Defluvium</td>\n",
       "      <td>0.82</td>\n",
       "      <td>NaN</td>\n",
       "      <td>1626907340</td>\n",
       "      <td>...</td>\n",
       "      <td>0</td>\n",
       "      <td>bbc.co.uk</td>\n",
       "      <td>TRUE</td>\n",
       "      <td>NaN</td>\n",
       "      <td>FALSE</td>\n",
       "      <td>&lt;bound method VotableMixin.upvote of Submissio...</td>\n",
       "      <td>22</td>\n",
       "      <td>FALSE</td>\n",
       "      <td>NaN</td>\n",
       "      <td>0</td>\n",
       "    </tr>\n",
       "    <tr>\n",
       "      <th>3</th>\n",
       "      <td>3.0</td>\n",
       "      <td>Powerful magnitude-6.8 quake shakes Panama and...</td>\n",
       "      <td>69</td>\n",
       "      <td>op0ac9</td>\n",
       "      <td>https://abcnews.go.com/International/wireStory...</td>\n",
       "      <td>2</td>\n",
       "      <td>shahin-13</td>\n",
       "      <td>0.96</td>\n",
       "      <td>NaN</td>\n",
       "      <td>1626905395</td>\n",
       "      <td>...</td>\n",
       "      <td>1</td>\n",
       "      <td>abcnews.go.com</td>\n",
       "      <td>TRUE</td>\n",
       "      <td>NaN</td>\n",
       "      <td>FALSE</td>\n",
       "      <td>&lt;bound method VotableMixin.upvote of Submissio...</td>\n",
       "      <td>69</td>\n",
       "      <td>FALSE</td>\n",
       "      <td>NaN</td>\n",
       "      <td>0</td>\n",
       "    </tr>\n",
       "    <tr>\n",
       "      <th>4</th>\n",
       "      <td>4.0</td>\n",
       "      <td>Passenger says brawl caught on video of MIA Fr...</td>\n",
       "      <td>15</td>\n",
       "      <td>op08m0</td>\n",
       "      <td>http://www.local10.com/news/local/2021/07/19/p...</td>\n",
       "      <td>6</td>\n",
       "      <td>General_Lychee6569</td>\n",
       "      <td>0.7</td>\n",
       "      <td>NaN</td>\n",
       "      <td>1626905247</td>\n",
       "      <td>...</td>\n",
       "      <td>0</td>\n",
       "      <td>local10.com</td>\n",
       "      <td>TRUE</td>\n",
       "      <td>NaN</td>\n",
       "      <td>FALSE</td>\n",
       "      <td>&lt;bound method VotableMixin.upvote of Submissio...</td>\n",
       "      <td>15</td>\n",
       "      <td>FALSE</td>\n",
       "      <td>NaN</td>\n",
       "      <td>0</td>\n",
       "    </tr>\n",
       "  </tbody>\n",
       "</table>\n",
       "<p>5 rows × 22 columns</p>\n",
       "</div>"
      ],
      "text/plain": [
       "   Rank                                              title score      id  \\\n",
       "0   0.0  Taliban appear to have 'strategic momentum' in...     3  op1ges   \n",
       "1   1.0  Argentina introduces new ID cards for non-bina...     7  op1ern   \n",
       "2   2.0  Monkeypox: More than 200 contacts tracked in U...    22  op0wf5   \n",
       "3   3.0  Powerful magnitude-6.8 quake shakes Panama and...    69  op0ac9   \n",
       "4   4.0  Passenger says brawl caught on video of MIA Fr...    15  op08m0   \n",
       "\n",
       "                                                 url comms_num  \\\n",
       "0  https://www.cbc.ca/news/world/us-general-afgha...         3   \n",
       "1  https://www.bbc.com/news/world-latin-america-5...         4   \n",
       "2  https://www.bbc.co.uk/news/world-us-canada-579...        19   \n",
       "3  https://abcnews.go.com/International/wireStory...         2   \n",
       "4  http://www.local10.com/news/local/2021/07/19/p...         6   \n",
       "\n",
       "                 author upvote_ratio flair created_utc  ... no_crossposts  \\\n",
       "0  WHOCaresAnymoretoday         0.64   NaN  1626909153  ...             0   \n",
       "1             shahin-13         0.73   NaN  1626908995  ...             0   \n",
       "2             Defluvium         0.82   NaN  1626907340  ...             0   \n",
       "3             shahin-13         0.96   NaN  1626905395  ...             1   \n",
       "4    General_Lychee6569          0.7   NaN  1626905247  ...             0   \n",
       "\n",
       "           domain is_crosspostable view_count visited  \\\n",
       "0          cbc.ca             TRUE        NaN   FALSE   \n",
       "1         bbc.com             TRUE        NaN   FALSE   \n",
       "2       bbc.co.uk             TRUE        NaN   FALSE   \n",
       "3  abcnews.go.com             TRUE        NaN   FALSE   \n",
       "4     local10.com             TRUE        NaN   FALSE   \n",
       "\n",
       "                                              upvote ups is_video  \\\n",
       "0  <bound method VotableMixin.upvote of Submissio...   3    FALSE   \n",
       "1  <bound method VotableMixin.upvote of Submissio...   7    FALSE   \n",
       "2  <bound method VotableMixin.upvote of Submissio...  22    FALSE   \n",
       "3  <bound method VotableMixin.upvote of Submissio...  69    FALSE   \n",
       "4  <bound method VotableMixin.upvote of Submissio...  15    FALSE   \n",
       "\n",
       "  link_flair_text gilded  \n",
       "0             NaN      0  \n",
       "1             NaN      0  \n",
       "2             NaN      0  \n",
       "3             NaN      0  \n",
       "4             NaN      0  \n",
       "\n",
       "[5 rows x 22 columns]"
      ]
     },
     "execution_count": 1,
     "metadata": {},
     "output_type": "execute_result"
    }
   ],
   "source": [
    "import pandas as pd \n",
    "\n",
    "new_news=pd.read_csv('/Users/adityaravindrabhat/Downloads/Final Datasets/Final Datasets_V1_Sep/new_news.csv')\n",
    "new_news.head()"
   ]
  },
  {
   "cell_type": "code",
   "execution_count": 2,
   "id": "3f9a3581",
   "metadata": {},
   "outputs": [
    {
     "name": "stdout",
     "output_type": "stream",
     "text": [
      "<class 'pandas.core.frame.DataFrame'>\n",
      "RangeIndex: 10403 entries, 0 to 10402\n",
      "Data columns (total 22 columns):\n",
      " #   Column            Non-Null Count  Dtype  \n",
      "---  ------            --------------  -----  \n",
      " 0   Rank              10200 non-null  float64\n",
      " 1   title             10403 non-null  object \n",
      " 2   score             10403 non-null  object \n",
      " 3   id                10403 non-null  object \n",
      " 4   url               10403 non-null  object \n",
      " 5   comms_num         10403 non-null  object \n",
      " 6   author            10403 non-null  object \n",
      " 7   upvote_ratio      10403 non-null  object \n",
      " 8   flair             214 non-null    object \n",
      " 9   created_utc       10403 non-null  object \n",
      " 10  clicked           10403 non-null  object \n",
      " 11  edited            10403 non-null  object \n",
      " 12  no_crossposts     10403 non-null  object \n",
      " 13  domain            10403 non-null  object \n",
      " 14  is_crosspostable  10403 non-null  object \n",
      " 15  view_count        203 non-null    object \n",
      " 16  visited           10403 non-null  object \n",
      " 17  upvote            10403 non-null  object \n",
      " 18  ups               10403 non-null  object \n",
      " 19  is_video          10403 non-null  object \n",
      " 20  link_flair_text   1039 non-null   object \n",
      " 21  gilded            10403 non-null  object \n",
      "dtypes: float64(1), object(21)\n",
      "memory usage: 1.7+ MB\n"
     ]
    }
   ],
   "source": [
    "new_news.info()"
   ]
  },
  {
   "cell_type": "code",
   "execution_count": 3,
   "id": "b42b1df3",
   "metadata": {},
   "outputs": [
    {
     "name": "stdout",
     "output_type": "stream",
     "text": [
      "<class 'pandas.core.frame.DataFrame'>\n",
      "Int64Index: 10200 entries, 0 to 10402\n",
      "Data columns (total 22 columns):\n",
      " #   Column            Non-Null Count  Dtype  \n",
      "---  ------            --------------  -----  \n",
      " 0   Rank              10200 non-null  float64\n",
      " 1   title             10200 non-null  object \n",
      " 2   score             10200 non-null  object \n",
      " 3   id                10200 non-null  object \n",
      " 4   url               10200 non-null  object \n",
      " 5   comms_num         10200 non-null  object \n",
      " 6   author            10200 non-null  object \n",
      " 7   upvote_ratio      10200 non-null  object \n",
      " 8   flair             11 non-null     object \n",
      " 9   created_utc       10200 non-null  object \n",
      " 10  clicked           10200 non-null  object \n",
      " 11  edited            10200 non-null  object \n",
      " 12  no_crossposts     10200 non-null  object \n",
      " 13  domain            10200 non-null  object \n",
      " 14  is_crosspostable  10200 non-null  object \n",
      " 15  view_count        0 non-null      object \n",
      " 16  visited           10200 non-null  object \n",
      " 17  upvote            10200 non-null  object \n",
      " 18  ups               10200 non-null  object \n",
      " 19  is_video          10200 non-null  object \n",
      " 20  link_flair_text   836 non-null    object \n",
      " 21  gilded            10200 non-null  object \n",
      "dtypes: float64(1), object(21)\n",
      "memory usage: 1.8+ MB\n"
     ]
    }
   ],
   "source": [
    "new_news=new_news.dropna(subset=['Rank'])\n",
    "new_news['Rank']=new_news['Rank']+1\n",
    "new_news.info()"
   ]
  },
  {
   "cell_type": "code",
   "execution_count": 4,
   "id": "be9d8f31",
   "metadata": {},
   "outputs": [],
   "source": [
    "new_news=new_news.drop(columns=['view_count','flair'],axis='columns')"
   ]
  },
  {
   "cell_type": "code",
   "execution_count": 5,
   "id": "12009291",
   "metadata": {},
   "outputs": [
    {
     "data": {
      "text/plain": [
       "0   2021-07-21 19:12:33-04:00\n",
       "1   2021-07-21 19:09:55-04:00\n",
       "2   2021-07-21 18:42:20-04:00\n",
       "3   2021-07-21 18:09:55-04:00\n",
       "4   2021-07-21 18:07:27-04:00\n",
       "Name: created_utc, dtype: datetime64[ns, US/Eastern]"
      ]
     },
     "execution_count": 5,
     "metadata": {},
     "output_type": "execute_result"
    }
   ],
   "source": [
    "new_news['created_utc']=pd.to_datetime(new_news.created_utc,unit='s').dt.tz_localize('utc').dt.tz_convert('US/Eastern')\n",
    "new_news['created_utc'].head()"
   ]
  },
  {
   "cell_type": "code",
   "execution_count": 6,
   "id": "f4a469f4",
   "metadata": {},
   "outputs": [],
   "source": [
    "new_news['created_date']=new_news['created_utc'].dt.date\n",
    "new_news['created_time']=new_news['created_utc'].dt.time"
   ]
  },
  {
   "cell_type": "code",
   "execution_count": 7,
   "id": "e2164e90",
   "metadata": {},
   "outputs": [
    {
     "data": {
      "text/plain": [
       "0    19:12:33\n",
       "1    19:09:55\n",
       "2    18:42:20\n",
       "3    18:09:55\n",
       "4    18:07:27\n",
       "Name: created_time, dtype: object"
      ]
     },
     "execution_count": 7,
     "metadata": {},
     "output_type": "execute_result"
    }
   ],
   "source": [
    "new_news['created_time'].head()"
   ]
  },
  {
   "cell_type": "code",
   "execution_count": 18,
   "id": "26aa1096",
   "metadata": {},
   "outputs": [
    {
     "name": "stdout",
     "output_type": "stream",
     "text": [
      "<class 'pandas.core.frame.DataFrame'>\n",
      "Int64Index: 13700 entries, 0 to 13972\n",
      "Data columns (total 23 columns):\n",
      " #   Column            Non-Null Count  Dtype                     \n",
      "---  ------            --------------  -----                     \n",
      " 0   Rank              13700 non-null  float64                   \n",
      " 1   title             13700 non-null  object                    \n",
      " 2   score             13700 non-null  object                    \n",
      " 3   id                13700 non-null  object                    \n",
      " 4   url               13700 non-null  object                    \n",
      " 5   comms_num         13700 non-null  object                    \n",
      " 6   author            13696 non-null  object                    \n",
      " 7   upvote_ratio      13700 non-null  object                    \n",
      " 8   flair             163 non-null    object                    \n",
      " 9   created_utc       13700 non-null  datetime64[ns, US/Eastern]\n",
      " 10  clicked           13700 non-null  object                    \n",
      " 11  edited            13700 non-null  object                    \n",
      " 12  no_crossposts     13700 non-null  object                    \n",
      " 13  domain            13700 non-null  object                    \n",
      " 14  is_crosspostable  13700 non-null  object                    \n",
      " 15  visited           13700 non-null  object                    \n",
      " 16  upvote            13700 non-null  object                    \n",
      " 17  ups               13700 non-null  object                    \n",
      " 18  is_video          13700 non-null  object                    \n",
      " 19  link_flair_text   1043 non-null   object                    \n",
      " 20  gilded            13700 non-null  object                    \n",
      " 21  created_date      13700 non-null  object                    \n",
      " 22  created_time      13700 non-null  object                    \n",
      "dtypes: datetime64[ns, US/Eastern](1), float64(1), object(21)\n",
      "memory usage: 2.5+ MB\n"
     ]
    }
   ],
   "source": [
    "#Removing all the auto moderated posts as they are discussions and not links to posts\n",
    "new_news=new_news[new_news['author']!=\"AutoModerator\"]\n",
    "new_news.info()"
   ]
  },
  {
   "cell_type": "code",
   "execution_count": 8,
   "id": "5b49a19f",
   "metadata": {},
   "outputs": [],
   "source": [
    "new_news.to_csv('/Users/adityaravindrabhat/Downloads/Final Datasets/SemicleanDatasets_v1/new_news_v1.csv')"
   ]
  },
  {
   "cell_type": "code",
   "execution_count": 9,
   "id": "a2ae5ac3",
   "metadata": {},
   "outputs": [],
   "source": [
    "import pandas as pd \n",
    "new_news=pd.read_csv('/Users/adityaravindrabhat/Downloads/Final Datasets/SemicleanDatasets_v1/new_news_v1.csv')"
   ]
  },
  {
   "cell_type": "code",
   "execution_count": 10,
   "id": "9a1958ef",
   "metadata": {},
   "outputs": [
    {
     "name": "stdout",
     "output_type": "stream",
     "text": [
      "36.64705882352941\n"
     ]
    }
   ],
   "source": [
    "new_unique_count=new_news['id'].nunique()\n",
    "print((new_unique_count/len(new_news))*100)"
   ]
  },
  {
   "cell_type": "code",
   "execution_count": 11,
   "id": "f49f0488",
   "metadata": {},
   "outputs": [
    {
     "data": {
      "text/plain": [
       "3738"
      ]
     },
     "execution_count": 11,
     "metadata": {},
     "output_type": "execute_result"
    }
   ],
   "source": [
    "#extracting the unique urls to extract the news articles\n",
    "unique_urls=new_news['url'].unique()\n",
    "len(unique_urls)"
   ]
  },
  {
   "cell_type": "code",
   "execution_count": 12,
   "id": "46918db8",
   "metadata": {},
   "outputs": [],
   "source": [
    "unique_urls=unique_urls.tolist()"
   ]
  },
  {
   "cell_type": "code",
   "execution_count": 15,
   "id": "fed6caa2",
   "metadata": {},
   "outputs": [],
   "source": [
    "from goose3 import Goose\n",
    "from datetime import datetime "
   ]
  },
  {
   "cell_type": "code",
   "execution_count": 16,
   "id": "d4c5e9e6",
   "metadata": {},
   "outputs": [],
   "source": [
    "goose=Goose()\n",
    "goose.config.https_timeout=120\n",
    "goose.browser_user_agent= \"Mozilla/5.0 (Macintosh; Intel Mac OS X 10_7_2)\""
   ]
  },
  {
   "cell_type": "code",
   "execution_count": 17,
   "id": "def01816",
   "metadata": {},
   "outputs": [],
   "source": [
    "articles_dict={ \n",
    "                \"title\":[],\\\n",
    "               \"published_at\":[],\\\n",
    "               \"publish_date\":[],\\\n",
    "               \"tweets\":[],\\\n",
    "               \"domain\":[],\\\n",
    "               \"movies\":[],\\\n",
    "               \"tags\"  :[],\\\n",
    "               \"top_image\":[],\\\n",
    "               \"links\":[]\n",
    "              \n",
    "               \n",
    "}\n",
    "\n"
   ]
  },
  {
   "cell_type": "code",
   "execution_count": 18,
   "id": "cb65e3c4",
   "metadata": {},
   "outputs": [],
   "source": [
    "for i in range(len(unique_urls)):\n",
    "    try:  \n",
    "        article=goose.extract(url=unique_urls[i])\n",
    "        articles_dict[\"title\"].append(article.title)\n",
    "        articles_dict[\"published_at\"].append(article.publish_datetime_utc)\n",
    "        articles_dict[\"publish_date\"].append(article.publish_date)\n",
    "        articles_dict[\"tweets\"].append(article.tweets)\n",
    "        articles_dict['domain'].append(article.domain)\n",
    "        articles_dict['tags'].append(article.tags)\n",
    "        articles_dict['movies'].append(article.movies)\n",
    "        articles_dict['top_image'].append(article.top_image)\n",
    "        articles_dict['links'].append(article.links)\n",
    "        \n",
    "    except:\n",
    "        continue "
   ]
  },
  {
   "cell_type": "code",
   "execution_count": 19,
   "id": "c9827eb0",
   "metadata": {},
   "outputs": [
    {
     "data": {
      "text/html": [
       "<div>\n",
       "<style scoped>\n",
       "    .dataframe tbody tr th:only-of-type {\n",
       "        vertical-align: middle;\n",
       "    }\n",
       "\n",
       "    .dataframe tbody tr th {\n",
       "        vertical-align: top;\n",
       "    }\n",
       "\n",
       "    .dataframe thead th {\n",
       "        text-align: right;\n",
       "    }\n",
       "</style>\n",
       "<table border=\"1\" class=\"dataframe\">\n",
       "  <thead>\n",
       "    <tr style=\"text-align: right;\">\n",
       "      <th></th>\n",
       "      <th>title</th>\n",
       "      <th>published_at</th>\n",
       "      <th>publish_date</th>\n",
       "      <th>tweets</th>\n",
       "      <th>domain</th>\n",
       "      <th>movies</th>\n",
       "      <th>tags</th>\n",
       "      <th>top_image</th>\n",
       "      <th>links</th>\n",
       "    </tr>\n",
       "  </thead>\n",
       "  <tbody>\n",
       "    <tr>\n",
       "      <th>0</th>\n",
       "      <td>Taliban appears to have 'strategic momentum' i...</td>\n",
       "      <td>None</td>\n",
       "      <td>Posted: Jul 21, 2021 5:12 PM ET | Last Updated...</td>\n",
       "      <td>[]</td>\n",
       "      <td>www.cbc.ca</td>\n",
       "      <td>[]</td>\n",
       "      <td>[]</td>\n",
       "      <td>None</td>\n",
       "      <td>[https://www.cbc.ca/news/world/afghanistan-bid...</td>\n",
       "    </tr>\n",
       "    <tr>\n",
       "      <th>1</th>\n",
       "      <td>Argentina introduces new ID cards for non-bina...</td>\n",
       "      <td>2021-07-21 22:52:17+00:00</td>\n",
       "      <td>2021-07-21T22:52:17.000Z</td>\n",
       "      <td>[]</td>\n",
       "      <td>www.bbc.com</td>\n",
       "      <td>[]</td>\n",
       "      <td>[]</td>\n",
       "      <td>None</td>\n",
       "      <td>[https://www.bbc.co.uk/news/world-latin-americ...</td>\n",
       "    </tr>\n",
       "    <tr>\n",
       "      <th>2</th>\n",
       "      <td>Monkeypox: More than 200 contacts tracked in U...</td>\n",
       "      <td>2021-07-21 18:48:15+00:00</td>\n",
       "      <td>2021-07-21T18:48:15.000Z</td>\n",
       "      <td>[]</td>\n",
       "      <td>www.bbc.co.uk</td>\n",
       "      <td>[]</td>\n",
       "      <td>[]</td>\n",
       "      <td>None</td>\n",
       "      <td>[https://www.bbc.co.uk/news/health-45665821, h...</td>\n",
       "    </tr>\n",
       "    <tr>\n",
       "      <th>3</th>\n",
       "      <td>Powerful magnitude-6.8 quake shakes Panama and...</td>\n",
       "      <td>2021-07-21 22:26:00+00:00</td>\n",
       "      <td>2021-07-21T22:26:00Z</td>\n",
       "      <td>[]</td>\n",
       "      <td>abcnews.go.com</td>\n",
       "      <td>[]</td>\n",
       "      <td>[]</td>\n",
       "      <td>None</td>\n",
       "      <td>[]</td>\n",
       "    </tr>\n",
       "    <tr>\n",
       "      <th>4</th>\n",
       "      <td>Passenger says brawl caught on video of MIA Fr...</td>\n",
       "      <td>2021-07-19 16:57:04.835000+00:00</td>\n",
       "      <td>2021-07-19T16:57:04.835Z</td>\n",
       "      <td>[]</td>\n",
       "      <td>www.local10.com</td>\n",
       "      <td>[]</td>\n",
       "      <td>[Heat, SoFlo Recipes, Don't Trash Our Treasure...</td>\n",
       "      <td>None</td>\n",
       "      <td>[#commentDiv]</td>\n",
       "    </tr>\n",
       "  </tbody>\n",
       "</table>\n",
       "</div>"
      ],
      "text/plain": [
       "                                               title  \\\n",
       "0  Taliban appears to have 'strategic momentum' i...   \n",
       "1  Argentina introduces new ID cards for non-bina...   \n",
       "2  Monkeypox: More than 200 contacts tracked in U...   \n",
       "3  Powerful magnitude-6.8 quake shakes Panama and...   \n",
       "4  Passenger says brawl caught on video of MIA Fr...   \n",
       "\n",
       "                       published_at  \\\n",
       "0                              None   \n",
       "1         2021-07-21 22:52:17+00:00   \n",
       "2         2021-07-21 18:48:15+00:00   \n",
       "3         2021-07-21 22:26:00+00:00   \n",
       "4  2021-07-19 16:57:04.835000+00:00   \n",
       "\n",
       "                                        publish_date tweets           domain  \\\n",
       "0  Posted: Jul 21, 2021 5:12 PM ET | Last Updated...     []       www.cbc.ca   \n",
       "1                           2021-07-21T22:52:17.000Z     []      www.bbc.com   \n",
       "2                           2021-07-21T18:48:15.000Z     []    www.bbc.co.uk   \n",
       "3                               2021-07-21T22:26:00Z     []   abcnews.go.com   \n",
       "4                           2021-07-19T16:57:04.835Z     []  www.local10.com   \n",
       "\n",
       "  movies                                               tags top_image  \\\n",
       "0     []                                                 []      None   \n",
       "1     []                                                 []      None   \n",
       "2     []                                                 []      None   \n",
       "3     []                                                 []      None   \n",
       "4     []  [Heat, SoFlo Recipes, Don't Trash Our Treasure...      None   \n",
       "\n",
       "                                               links  \n",
       "0  [https://www.cbc.ca/news/world/afghanistan-bid...  \n",
       "1  [https://www.bbc.co.uk/news/world-latin-americ...  \n",
       "2  [https://www.bbc.co.uk/news/health-45665821, h...  \n",
       "3                                                 []  \n",
       "4                                      [#commentDiv]  "
      ]
     },
     "execution_count": 19,
     "metadata": {},
     "output_type": "execute_result"
    }
   ],
   "source": [
    "article_meta=pd.DataFrame.from_dict( articles_dict)\n",
    "article_meta.head()"
   ]
  },
  {
   "cell_type": "code",
   "execution_count": 20,
   "id": "652bce2e",
   "metadata": {},
   "outputs": [],
   "source": [
    "article_meta.to_csv('/Users/adityaravindrabhat/Downloads/Final Datasets/Goose Dataset/new_news_articles_meta.csv')"
   ]
  },
  {
   "cell_type": "code",
   "execution_count": 22,
   "id": "58e7733a",
   "metadata": {},
   "outputs": [],
   "source": [
    "article_body={\n",
    "    'body':[]\n",
    "}"
   ]
  },
  {
   "cell_type": "code",
   "execution_count": 44,
   "id": "22b9f0bd",
   "metadata": {},
   "outputs": [],
   "source": [
    "for i in range(len(unique_urls)):\n",
    "    try:\n",
    "            body=goose.extract(url=unique_urls[i])\n",
    "            article_body[\"body\"].append(body.cleaned_text)\n",
    "    except :\n",
    "        continue\n"
   ]
  },
  {
   "cell_type": "code",
   "execution_count": 46,
   "id": "a6143060",
   "metadata": {},
   "outputs": [],
   "source": [
    "\n",
    "art=list(article_body.values())\n",
    "\n",
    "file = '/Users/adityaravindrabhat/Downloads/Final Datasets/Goose Text Articles/new_news_articles/file{}.txt'\n",
    "n=1\n",
    "for i in range(len(art[0])):\n",
    "    with open(file.format(n),'w') as f :\n",
    "        f.write(str(art[0][i]))\n",
    "        n+=1"
   ]
  },
  {
   "cell_type": "code",
   "execution_count": null,
   "id": "f9e0f673",
   "metadata": {},
   "outputs": [],
   "source": []
  }
 ],
 "metadata": {
  "kernelspec": {
   "display_name": "Python 3",
   "language": "python",
   "name": "python3"
  },
  "language_info": {
   "codemirror_mode": {
    "name": "ipython",
    "version": 3
   },
   "file_extension": ".py",
   "mimetype": "text/x-python",
   "name": "python",
   "nbconvert_exporter": "python",
   "pygments_lexer": "ipython3",
   "version": "3.8.8"
  }
 },
 "nbformat": 4,
 "nbformat_minor": 5
}
