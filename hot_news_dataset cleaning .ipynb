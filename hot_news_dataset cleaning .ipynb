{
 "cells": [
  {
   "cell_type": "code",
   "execution_count": 11,
   "id": "582775e7",
   "metadata": {},
   "outputs": [
    {
     "data": {
      "text/html": [
       "<div>\n",
       "<style scoped>\n",
       "    .dataframe tbody tr th:only-of-type {\n",
       "        vertical-align: middle;\n",
       "    }\n",
       "\n",
       "    .dataframe tbody tr th {\n",
       "        vertical-align: top;\n",
       "    }\n",
       "\n",
       "    .dataframe thead th {\n",
       "        text-align: right;\n",
       "    }\n",
       "</style>\n",
       "<table border=\"1\" class=\"dataframe\">\n",
       "  <thead>\n",
       "    <tr style=\"text-align: right;\">\n",
       "      <th></th>\n",
       "      <th>Rank</th>\n",
       "      <th>title</th>\n",
       "      <th>score</th>\n",
       "      <th>id</th>\n",
       "      <th>url</th>\n",
       "      <th>comms_num</th>\n",
       "      <th>author</th>\n",
       "      <th>upvote_ratio</th>\n",
       "      <th>flair</th>\n",
       "      <th>created_utc</th>\n",
       "      <th>...</th>\n",
       "      <th>no_crossposts</th>\n",
       "      <th>domain</th>\n",
       "      <th>is_crosspostable</th>\n",
       "      <th>view_count</th>\n",
       "      <th>visited</th>\n",
       "      <th>upvote</th>\n",
       "      <th>ups</th>\n",
       "      <th>is_video</th>\n",
       "      <th>link_flair_text</th>\n",
       "      <th>gilded</th>\n",
       "    </tr>\n",
       "  </thead>\n",
       "  <tbody>\n",
       "    <tr>\n",
       "      <th>0</th>\n",
       "      <td>0.0</td>\n",
       "      <td>2020 Tokyo Olympics Megathread</td>\n",
       "      <td>49</td>\n",
       "      <td>ooqc6i</td>\n",
       "      <td>https://www.reddit.com/r/news/comments/ooqc6i/...</td>\n",
       "      <td>142</td>\n",
       "      <td>NewsModTeam</td>\n",
       "      <td>0.65</td>\n",
       "      <td>Does not answer PMs</td>\n",
       "      <td>1626875614</td>\n",
       "      <td>...</td>\n",
       "      <td>0</td>\n",
       "      <td>self.news</td>\n",
       "      <td>TRUE</td>\n",
       "      <td>NaN</td>\n",
       "      <td>FALSE</td>\n",
       "      <td>&lt;bound method VotableMixin.upvote of Submissio...</td>\n",
       "      <td>49</td>\n",
       "      <td>FALSE</td>\n",
       "      <td>NaN</td>\n",
       "      <td>0</td>\n",
       "    </tr>\n",
       "    <tr>\n",
       "      <th>1</th>\n",
       "      <td>1.0</td>\n",
       "      <td>Man found dead with ‘I touch little girls’ wri...</td>\n",
       "      <td>14470</td>\n",
       "      <td>oou7kh</td>\n",
       "      <td>https://www.news.com.au/world/north-america/ma...</td>\n",
       "      <td>1859</td>\n",
       "      <td>WritesUaSong</td>\n",
       "      <td>0.97</td>\n",
       "      <td>NaN</td>\n",
       "      <td>1626887118</td>\n",
       "      <td>...</td>\n",
       "      <td>2</td>\n",
       "      <td>news.com.au</td>\n",
       "      <td>TRUE</td>\n",
       "      <td>NaN</td>\n",
       "      <td>FALSE</td>\n",
       "      <td>&lt;bound method VotableMixin.upvote of Submissio...</td>\n",
       "      <td>14470</td>\n",
       "      <td>FALSE</td>\n",
       "      <td>NaN</td>\n",
       "      <td>0</td>\n",
       "    </tr>\n",
       "    <tr>\n",
       "      <th>2</th>\n",
       "      <td>2.0</td>\n",
       "      <td>New Jersey hospital fires 6 employees who did ...</td>\n",
       "      <td>32350</td>\n",
       "      <td>oorcsq</td>\n",
       "      <td>https://www.nbcnews.com/news/us-news/new-jerse...</td>\n",
       "      <td>3818</td>\n",
       "      <td>Dictator0</td>\n",
       "      <td>0.88</td>\n",
       "      <td>NaN</td>\n",
       "      <td>1626878793</td>\n",
       "      <td>...</td>\n",
       "      <td>3</td>\n",
       "      <td>nbcnews.com</td>\n",
       "      <td>TRUE</td>\n",
       "      <td>NaN</td>\n",
       "      <td>FALSE</td>\n",
       "      <td>&lt;bound method VotableMixin.upvote of Submissio...</td>\n",
       "      <td>32350</td>\n",
       "      <td>FALSE</td>\n",
       "      <td>NaN</td>\n",
       "      <td>0</td>\n",
       "    </tr>\n",
       "    <tr>\n",
       "      <th>3</th>\n",
       "      <td>3.0</td>\n",
       "      <td>Yosemite park ranger shares heartbreaking plea...</td>\n",
       "      <td>44462</td>\n",
       "      <td>oonzyz</td>\n",
       "      <td>https://www.cnn.com/travel/amp/yosemite-bear-k...</td>\n",
       "      <td>2319</td>\n",
       "      <td>ezzrd</td>\n",
       "      <td>0.92</td>\n",
       "      <td>NaN</td>\n",
       "      <td>1626867004</td>\n",
       "      <td>...</td>\n",
       "      <td>7</td>\n",
       "      <td>cnn.com</td>\n",
       "      <td>TRUE</td>\n",
       "      <td>NaN</td>\n",
       "      <td>FALSE</td>\n",
       "      <td>&lt;bound method VotableMixin.upvote of Submissio...</td>\n",
       "      <td>44462</td>\n",
       "      <td>FALSE</td>\n",
       "      <td>NaN</td>\n",
       "      <td>0</td>\n",
       "    </tr>\n",
       "    <tr>\n",
       "      <th>4</th>\n",
       "      <td>4.0</td>\n",
       "      <td>Sheriff’s office captain found passed out in t...</td>\n",
       "      <td>2004</td>\n",
       "      <td>oowppz</td>\n",
       "      <td>https://www.wftv.com/news/9investigates/scso-c...</td>\n",
       "      <td>227</td>\n",
       "      <td>AllenZulu</td>\n",
       "      <td>0.97</td>\n",
       "      <td>NaN</td>\n",
       "      <td>1626894543</td>\n",
       "      <td>...</td>\n",
       "      <td>2</td>\n",
       "      <td>wftv.com</td>\n",
       "      <td>TRUE</td>\n",
       "      <td>NaN</td>\n",
       "      <td>FALSE</td>\n",
       "      <td>&lt;bound method VotableMixin.upvote of Submissio...</td>\n",
       "      <td>2004</td>\n",
       "      <td>FALSE</td>\n",
       "      <td>NaN</td>\n",
       "      <td>0</td>\n",
       "    </tr>\n",
       "  </tbody>\n",
       "</table>\n",
       "<p>5 rows × 22 columns</p>\n",
       "</div>"
      ],
      "text/plain": [
       "   Rank                                              title  score      id  \\\n",
       "0   0.0                     2020 Tokyo Olympics Megathread     49  ooqc6i   \n",
       "1   1.0  Man found dead with ‘I touch little girls’ wri...  14470  oou7kh   \n",
       "2   2.0  New Jersey hospital fires 6 employees who did ...  32350  oorcsq   \n",
       "3   3.0  Yosemite park ranger shares heartbreaking plea...  44462  oonzyz   \n",
       "4   4.0  Sheriff’s office captain found passed out in t...   2004  oowppz   \n",
       "\n",
       "                                                 url comms_num        author  \\\n",
       "0  https://www.reddit.com/r/news/comments/ooqc6i/...       142   NewsModTeam   \n",
       "1  https://www.news.com.au/world/north-america/ma...      1859  WritesUaSong   \n",
       "2  https://www.nbcnews.com/news/us-news/new-jerse...      3818     Dictator0   \n",
       "3  https://www.cnn.com/travel/amp/yosemite-bear-k...      2319         ezzrd   \n",
       "4  https://www.wftv.com/news/9investigates/scso-c...       227     AllenZulu   \n",
       "\n",
       "  upvote_ratio                flair created_utc  ... no_crossposts  \\\n",
       "0         0.65  Does not answer PMs  1626875614  ...             0   \n",
       "1         0.97                  NaN  1626887118  ...             2   \n",
       "2         0.88                  NaN  1626878793  ...             3   \n",
       "3         0.92                  NaN  1626867004  ...             7   \n",
       "4         0.97                  NaN  1626894543  ...             2   \n",
       "\n",
       "        domain is_crosspostable view_count visited  \\\n",
       "0    self.news             TRUE        NaN   FALSE   \n",
       "1  news.com.au             TRUE        NaN   FALSE   \n",
       "2  nbcnews.com             TRUE        NaN   FALSE   \n",
       "3      cnn.com             TRUE        NaN   FALSE   \n",
       "4     wftv.com             TRUE        NaN   FALSE   \n",
       "\n",
       "                                              upvote    ups is_video  \\\n",
       "0  <bound method VotableMixin.upvote of Submissio...     49    FALSE   \n",
       "1  <bound method VotableMixin.upvote of Submissio...  14470    FALSE   \n",
       "2  <bound method VotableMixin.upvote of Submissio...  32350    FALSE   \n",
       "3  <bound method VotableMixin.upvote of Submissio...  44462    FALSE   \n",
       "4  <bound method VotableMixin.upvote of Submissio...   2004    FALSE   \n",
       "\n",
       "  link_flair_text gilded  \n",
       "0             NaN      0  \n",
       "1             NaN      0  \n",
       "2             NaN      0  \n",
       "3             NaN      0  \n",
       "4             NaN      0  \n",
       "\n",
       "[5 rows x 22 columns]"
      ]
     },
     "execution_count": 11,
     "metadata": {},
     "output_type": "execute_result"
    }
   ],
   "source": [
    "import pandas as pd \n",
    "\n",
    "hot_news=pd.read_csv('/Users/adityaravindrabhat/Downloads/Final Datasets/Final Datasets_V1_Sep/hot_new.csv')\n",
    "hot_news.head()"
   ]
  },
  {
   "cell_type": "code",
   "execution_count": 12,
   "id": "3f9a3581",
   "metadata": {},
   "outputs": [
    {
     "name": "stdout",
     "output_type": "stream",
     "text": [
      "<class 'pandas.core.frame.DataFrame'>\n",
      "RangeIndex: 13973 entries, 0 to 13972\n",
      "Data columns (total 22 columns):\n",
      " #   Column            Non-Null Count  Dtype  \n",
      "---  ------            --------------  -----  \n",
      " 0   Rank              13700 non-null  float64\n",
      " 1   title             13973 non-null  object \n",
      " 2   score             13973 non-null  object \n",
      " 3   id                13973 non-null  object \n",
      " 4   url               13973 non-null  object \n",
      " 5   comms_num         13973 non-null  object \n",
      " 6   author            13969 non-null  object \n",
      " 7   upvote_ratio      13973 non-null  object \n",
      " 8   flair             436 non-null    object \n",
      " 9   created_utc       13973 non-null  object \n",
      " 10  clicked           13973 non-null  object \n",
      " 11  edited            13973 non-null  object \n",
      " 12  no_crossposts     13973 non-null  object \n",
      " 13  domain            13973 non-null  object \n",
      " 14  is_crosspostable  13973 non-null  object \n",
      " 15  view_count        273 non-null    object \n",
      " 16  visited           13973 non-null  object \n",
      " 17  upvote            13973 non-null  object \n",
      " 18  ups               13973 non-null  object \n",
      " 19  is_video          13973 non-null  object \n",
      " 20  link_flair_text   1316 non-null   object \n",
      " 21  gilded            13973 non-null  object \n",
      "dtypes: float64(1), object(21)\n",
      "memory usage: 2.3+ MB\n"
     ]
    }
   ],
   "source": [
    "hot_news.info()"
   ]
  },
  {
   "cell_type": "code",
   "execution_count": 13,
   "id": "b42b1df3",
   "metadata": {},
   "outputs": [
    {
     "name": "stdout",
     "output_type": "stream",
     "text": [
      "<class 'pandas.core.frame.DataFrame'>\n",
      "Int64Index: 13700 entries, 0 to 13972\n",
      "Data columns (total 22 columns):\n",
      " #   Column            Non-Null Count  Dtype  \n",
      "---  ------            --------------  -----  \n",
      " 0   Rank              13700 non-null  float64\n",
      " 1   title             13700 non-null  object \n",
      " 2   score             13700 non-null  object \n",
      " 3   id                13700 non-null  object \n",
      " 4   url               13700 non-null  object \n",
      " 5   comms_num         13700 non-null  object \n",
      " 6   author            13696 non-null  object \n",
      " 7   upvote_ratio      13700 non-null  object \n",
      " 8   flair             163 non-null    object \n",
      " 9   created_utc       13700 non-null  object \n",
      " 10  clicked           13700 non-null  object \n",
      " 11  edited            13700 non-null  object \n",
      " 12  no_crossposts     13700 non-null  object \n",
      " 13  domain            13700 non-null  object \n",
      " 14  is_crosspostable  13700 non-null  object \n",
      " 15  view_count        0 non-null      object \n",
      " 16  visited           13700 non-null  object \n",
      " 17  upvote            13700 non-null  object \n",
      " 18  ups               13700 non-null  object \n",
      " 19  is_video          13700 non-null  object \n",
      " 20  link_flair_text   1043 non-null   object \n",
      " 21  gilded            13700 non-null  object \n",
      "dtypes: float64(1), object(21)\n",
      "memory usage: 2.4+ MB\n"
     ]
    }
   ],
   "source": [
    "hot_news=hot_news.dropna(subset=['Rank'])\n",
    "hot_news['Rank']=hot_news['Rank']+1\n",
    "hot_news.info()"
   ]
  },
  {
   "cell_type": "code",
   "execution_count": 14,
   "id": "be9d8f31",
   "metadata": {},
   "outputs": [],
   "source": [
    "hot_news=hot_news.drop(columns=['view_count'],axis='columns')"
   ]
  },
  {
   "cell_type": "code",
   "execution_count": 15,
   "id": "12009291",
   "metadata": {},
   "outputs": [
    {
     "data": {
      "text/plain": [
       "0   2021-07-21 09:53:34-04:00\n",
       "1   2021-07-21 13:05:18-04:00\n",
       "2   2021-07-21 10:46:33-04:00\n",
       "3   2021-07-21 07:30:04-04:00\n",
       "4   2021-07-21 15:09:03-04:00\n",
       "Name: created_utc, dtype: datetime64[ns, US/Eastern]"
      ]
     },
     "execution_count": 15,
     "metadata": {},
     "output_type": "execute_result"
    }
   ],
   "source": [
    "hot_news['created_utc']=pd.to_datetime(hot_news.created_utc,unit='s').dt.tz_localize('utc').dt.tz_convert('US/Eastern')\n",
    "hot_news['created_utc'].head()"
   ]
  },
  {
   "cell_type": "code",
   "execution_count": 16,
   "id": "f4a469f4",
   "metadata": {},
   "outputs": [],
   "source": [
    "hot_news['created_date']=hot_news['created_utc'].dt.date\n",
    "hot_news['created_time']=hot_news['created_utc'].dt.time"
   ]
  },
  {
   "cell_type": "code",
   "execution_count": 17,
   "id": "e2164e90",
   "metadata": {},
   "outputs": [
    {
     "data": {
      "text/plain": [
       "0    09:53:34\n",
       "1    13:05:18\n",
       "2    10:46:33\n",
       "3    07:30:04\n",
       "4    15:09:03\n",
       "Name: created_time, dtype: object"
      ]
     },
     "execution_count": 17,
     "metadata": {},
     "output_type": "execute_result"
    }
   ],
   "source": [
    "hot_news['created_time'].head()"
   ]
  },
  {
   "cell_type": "code",
   "execution_count": 18,
   "id": "26aa1096",
   "metadata": {},
   "outputs": [
    {
     "name": "stdout",
     "output_type": "stream",
     "text": [
      "<class 'pandas.core.frame.DataFrame'>\n",
      "Int64Index: 13700 entries, 0 to 13972\n",
      "Data columns (total 23 columns):\n",
      " #   Column            Non-Null Count  Dtype                     \n",
      "---  ------            --------------  -----                     \n",
      " 0   Rank              13700 non-null  float64                   \n",
      " 1   title             13700 non-null  object                    \n",
      " 2   score             13700 non-null  object                    \n",
      " 3   id                13700 non-null  object                    \n",
      " 4   url               13700 non-null  object                    \n",
      " 5   comms_num         13700 non-null  object                    \n",
      " 6   author            13696 non-null  object                    \n",
      " 7   upvote_ratio      13700 non-null  object                    \n",
      " 8   flair             163 non-null    object                    \n",
      " 9   created_utc       13700 non-null  datetime64[ns, US/Eastern]\n",
      " 10  clicked           13700 non-null  object                    \n",
      " 11  edited            13700 non-null  object                    \n",
      " 12  no_crossposts     13700 non-null  object                    \n",
      " 13  domain            13700 non-null  object                    \n",
      " 14  is_crosspostable  13700 non-null  object                    \n",
      " 15  visited           13700 non-null  object                    \n",
      " 16  upvote            13700 non-null  object                    \n",
      " 17  ups               13700 non-null  object                    \n",
      " 18  is_video          13700 non-null  object                    \n",
      " 19  link_flair_text   1043 non-null   object                    \n",
      " 20  gilded            13700 non-null  object                    \n",
      " 21  created_date      13700 non-null  object                    \n",
      " 22  created_time      13700 non-null  object                    \n",
      "dtypes: datetime64[ns, US/Eastern](1), float64(1), object(21)\n",
      "memory usage: 2.5+ MB\n"
     ]
    }
   ],
   "source": [
    "#Removing all the auto moderated posts as they are discussions and not links to posts\n",
    "hot_news=hot_news[hot_news['author']!=\"AutoModerator\"]\n",
    "hot_news.info()"
   ]
  },
  {
   "cell_type": "code",
   "execution_count": 24,
   "id": "5b49a19f",
   "metadata": {},
   "outputs": [],
   "source": [
    "hot_news.to_csv('/Users/adityaravindrabhat/Downloads/Final Datasets/SemicleanDatasets_v1/hot_news_v1.csv')"
   ]
  },
  {
   "cell_type": "code",
   "execution_count": 1,
   "id": "a2ae5ac3",
   "metadata": {},
   "outputs": [],
   "source": [
    "import pandas as pd \n",
    "hot_news=pd.read_csv('/Users/adityaravindrabhat/Downloads/Final Datasets/SemicleanDatasets_v1/hot_news_v1.csv')"
   ]
  },
  {
   "cell_type": "code",
   "execution_count": 2,
   "id": "9a1958ef",
   "metadata": {},
   "outputs": [
    {
     "name": "stdout",
     "output_type": "stream",
     "text": [
      "30.474452554744524\n"
     ]
    }
   ],
   "source": [
    "hot_unique_count=hot_news['id'].nunique()\n",
    "print((hot_unique_count/len(hot_news))*100)"
   ]
  },
  {
   "cell_type": "code",
   "execution_count": 3,
   "id": "f49f0488",
   "metadata": {},
   "outputs": [
    {
     "data": {
      "text/plain": [
       "4175"
      ]
     },
     "execution_count": 3,
     "metadata": {},
     "output_type": "execute_result"
    }
   ],
   "source": [
    "#extracting the unique urls to extract the news articles\n",
    "unique_urls=hot_news['url'].unique()\n",
    "len(unique_urls)"
   ]
  },
  {
   "cell_type": "code",
   "execution_count": 4,
   "id": "46918db8",
   "metadata": {},
   "outputs": [],
   "source": [
    "unique_urls=unique_urls.tolist()"
   ]
  },
  {
   "cell_type": "code",
   "execution_count": 5,
   "id": "fed6caa2",
   "metadata": {},
   "outputs": [],
   "source": [
    "from goose3 import Goose\n",
    "from datetime import datetime "
   ]
  },
  {
   "cell_type": "code",
   "execution_count": 6,
   "id": "d4c5e9e6",
   "metadata": {},
   "outputs": [],
   "source": [
    "goose=Goose()\n",
    "goose.config.https_timeout=120\n",
    "goose.browser_user_agent= \"Mozilla/5.0 (Macintosh; Intel Mac OS X 10_7_2)\""
   ]
  },
  {
   "cell_type": "code",
   "execution_count": 10,
   "id": "def01816",
   "metadata": {},
   "outputs": [],
   "source": [
    "articles_dict={ \n",
    "                \"title\":[],\\\n",
    "               \"published_at\":[],\\\n",
    "               \"publish_date\":[],\\\n",
    "               \"tweets\":[],\\\n",
    "               \"domain\":[],\\\n",
    "               \"movies\":[],\\\n",
    "               \"tags\"  :[],\\\n",
    "               \"top_image\":[],\\\n",
    "               \"links\":[]\n",
    "              \n",
    "               \n",
    "}\n",
    "\n"
   ]
  },
  {
   "cell_type": "code",
   "execution_count": 30,
   "id": "cb65e3c4",
   "metadata": {},
   "outputs": [],
   "source": [
    "for i in range(len(unique_urls)):\n",
    "    try:  \n",
    "        article=goose.extract(url=unique_urls[i])\n",
    "        articles_dict[\"title\"].append(article.title)\n",
    "        articles_dict[\"published_at\"].append(article.publish_datetime_utc)\n",
    "        articles_dict[\"publish_date\"].append(article.publish_date)\n",
    "        articles_dict[\"tweets\"].append(article.tweets)\n",
    "        articles_dict['domain'].append(article.domain)\n",
    "        articles_dict['tags'].append(article.tags)\n",
    "        articles_dict['movies'].append(article.movies)\n",
    "        articles_dict['top_image'].append(article.top_image)\n",
    "        articles_dict['links'].append(article.links)\n",
    "        \n",
    "    except:\n",
    "        continue "
   ]
  },
  {
   "cell_type": "code",
   "execution_count": 31,
   "id": "c9827eb0",
   "metadata": {},
   "outputs": [
    {
     "data": {
      "text/html": [
       "<div>\n",
       "<style scoped>\n",
       "    .dataframe tbody tr th:only-of-type {\n",
       "        vertical-align: middle;\n",
       "    }\n",
       "\n",
       "    .dataframe tbody tr th {\n",
       "        vertical-align: top;\n",
       "    }\n",
       "\n",
       "    .dataframe thead th {\n",
       "        text-align: right;\n",
       "    }\n",
       "</style>\n",
       "<table border=\"1\" class=\"dataframe\">\n",
       "  <thead>\n",
       "    <tr style=\"text-align: right;\">\n",
       "      <th></th>\n",
       "      <th>title</th>\n",
       "      <th>published_at</th>\n",
       "      <th>publish_date</th>\n",
       "      <th>tweets</th>\n",
       "      <th>domain</th>\n",
       "      <th>movies</th>\n",
       "      <th>tags</th>\n",
       "      <th>top_image</th>\n",
       "      <th>links</th>\n",
       "    </tr>\n",
       "  </thead>\n",
       "  <tbody>\n",
       "    <tr>\n",
       "      <th>0</th>\n",
       "      <td>r/news - 2020 Tokyo Olympics Megathread</td>\n",
       "      <td>None</td>\n",
       "      <td>None</td>\n",
       "      <td>[]</td>\n",
       "      <td>www.reddit.com</td>\n",
       "      <td>[]</td>\n",
       "      <td>[]</td>\n",
       "      <td>None</td>\n",
       "      <td>[/r/sports/, /r/olympics/, https://olympics.co...</td>\n",
       "    </tr>\n",
       "    <tr>\n",
       "      <th>1</th>\n",
       "      <td>Disturbing message written on man’s chest</td>\n",
       "      <td>2021-07-20 22:58:00+00:00</td>\n",
       "      <td>2021-07-20T22:58:00.000Z</td>\n",
       "      <td>[]</td>\n",
       "      <td>www.news.com.au</td>\n",
       "      <td>[]</td>\n",
       "      <td>[]</td>\n",
       "      <td>None</td>\n",
       "      <td>[https://nypost.com/2021/07/20/man-found-dead-...</td>\n",
       "    </tr>\n",
       "    <tr>\n",
       "      <th>2</th>\n",
       "      <td>New Jersey hospital system fires 6 employees w...</td>\n",
       "      <td>2021-07-21 14:37:00+00:00</td>\n",
       "      <td>Wed Jul 21 2021 14:37:00 GMT+0000 (UTC)</td>\n",
       "      <td>[]</td>\n",
       "      <td>www.nbcnews.com</td>\n",
       "      <td>[]</td>\n",
       "      <td>[]</td>\n",
       "      <td>None</td>\n",
       "      <td>[https://www.rwjbh.org/blog/2021/may/rwjbarnab...</td>\n",
       "    </tr>\n",
       "    <tr>\n",
       "      <th>3</th>\n",
       "      <td>Yosemite park ranger shares heartbreaking plea...</td>\n",
       "      <td>2021-07-21 00:39:35+00:00</td>\n",
       "      <td>2021-07-21T00:39:35Z</td>\n",
       "      <td>[]</td>\n",
       "      <td>www.cnn.com</td>\n",
       "      <td>[]</td>\n",
       "      <td>[]</td>\n",
       "      <td>None</td>\n",
       "      <td>[https://www.facebook.com/YosemiteNPS/posts/41...</td>\n",
       "    </tr>\n",
       "    <tr>\n",
       "      <th>4</th>\n",
       "      <td>Sheriff’s office captain found passed out in t...</td>\n",
       "      <td>2021-07-21 21:46:32.448000+00:00</td>\n",
       "      <td>2021-07-21T21:46:32.448Z</td>\n",
       "      <td>[]</td>\n",
       "      <td>www.wftv.com</td>\n",
       "      <td>[]</td>\n",
       "      <td>[]</td>\n",
       "      <td>None</td>\n",
       "      <td>[https://www.wftv.com/news/trending/how-do-you...</td>\n",
       "    </tr>\n",
       "  </tbody>\n",
       "</table>\n",
       "</div>"
      ],
      "text/plain": [
       "                                               title  \\\n",
       "0            r/news - 2020 Tokyo Olympics Megathread   \n",
       "1          Disturbing message written on man’s chest   \n",
       "2  New Jersey hospital system fires 6 employees w...   \n",
       "3  Yosemite park ranger shares heartbreaking plea...   \n",
       "4  Sheriff’s office captain found passed out in t...   \n",
       "\n",
       "                       published_at                             publish_date  \\\n",
       "0                              None                                     None   \n",
       "1         2021-07-20 22:58:00+00:00                 2021-07-20T22:58:00.000Z   \n",
       "2         2021-07-21 14:37:00+00:00  Wed Jul 21 2021 14:37:00 GMT+0000 (UTC)   \n",
       "3         2021-07-21 00:39:35+00:00                     2021-07-21T00:39:35Z   \n",
       "4  2021-07-21 21:46:32.448000+00:00                 2021-07-21T21:46:32.448Z   \n",
       "\n",
       "  tweets           domain movies tags top_image  \\\n",
       "0     []   www.reddit.com     []   []      None   \n",
       "1     []  www.news.com.au     []   []      None   \n",
       "2     []  www.nbcnews.com     []   []      None   \n",
       "3     []      www.cnn.com     []   []      None   \n",
       "4     []     www.wftv.com     []   []      None   \n",
       "\n",
       "                                               links  \n",
       "0  [/r/sports/, /r/olympics/, https://olympics.co...  \n",
       "1  [https://nypost.com/2021/07/20/man-found-dead-...  \n",
       "2  [https://www.rwjbh.org/blog/2021/may/rwjbarnab...  \n",
       "3  [https://www.facebook.com/YosemiteNPS/posts/41...  \n",
       "4  [https://www.wftv.com/news/trending/how-do-you...  "
      ]
     },
     "execution_count": 31,
     "metadata": {},
     "output_type": "execute_result"
    }
   ],
   "source": [
    "article_meta=pd.DataFrame.from_dict( articles_dict)\n",
    "article_meta.head()"
   ]
  },
  {
   "cell_type": "code",
   "execution_count": 33,
   "id": "652bce2e",
   "metadata": {},
   "outputs": [],
   "source": [
    "article_meta.to_csv('/Users/adityaravindrabhat/Downloads/Final Datasets/Goose Dataset/hot_news_articles_meta.csv')"
   ]
  },
  {
   "cell_type": "code",
   "execution_count": 43,
   "id": "58e7733a",
   "metadata": {},
   "outputs": [],
   "source": [
    "article_body={\n",
    "    'body':[]\n",
    "}"
   ]
  },
  {
   "cell_type": "code",
   "execution_count": 44,
   "id": "22b9f0bd",
   "metadata": {},
   "outputs": [],
   "source": [
    "for i in range(len(unique_urls)):\n",
    "    try:\n",
    "            body=goose.extract(url=unique_urls[i])\n",
    "            article_body[\"body\"].append(body.cleaned_text)\n",
    "    except :\n",
    "        continue\n"
   ]
  },
  {
   "cell_type": "code",
   "execution_count": 46,
   "id": "a6143060",
   "metadata": {},
   "outputs": [],
   "source": [
    "\n",
    "art=list(article_body.values())\n",
    "\n",
    "file = '/Users/adityaravindrabhat/Downloads/Final Datasets/Goose Text Articles/hot_news_articles/file{}.txt'\n",
    "n=1\n",
    "for i in range(len(art[0])):\n",
    "    with open(file.format(n),'w') as f :\n",
    "        f.write(str(art[0][i]))\n",
    "        n+=1"
   ]
  },
  {
   "cell_type": "code",
   "execution_count": null,
   "id": "f9e0f673",
   "metadata": {},
   "outputs": [],
   "source": []
  }
 ],
 "metadata": {
  "kernelspec": {
   "display_name": "Python 3",
   "language": "python",
   "name": "python3"
  },
  "language_info": {
   "codemirror_mode": {
    "name": "ipython",
    "version": 3
   },
   "file_extension": ".py",
   "mimetype": "text/x-python",
   "name": "python",
   "nbconvert_exporter": "python",
   "pygments_lexer": "ipython3",
   "version": "3.8.8"
  }
 },
 "nbformat": 4,
 "nbformat_minor": 5
}
