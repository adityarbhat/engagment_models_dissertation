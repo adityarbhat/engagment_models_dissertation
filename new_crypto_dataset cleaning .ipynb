{
 "cells": [
  {
   "cell_type": "code",
   "execution_count": 18,
   "id": "582775e7",
   "metadata": {},
   "outputs": [
    {
     "data": {
      "text/html": [
       "<div>\n",
       "<style scoped>\n",
       "    .dataframe tbody tr th:only-of-type {\n",
       "        vertical-align: middle;\n",
       "    }\n",
       "\n",
       "    .dataframe tbody tr th {\n",
       "        vertical-align: top;\n",
       "    }\n",
       "\n",
       "    .dataframe thead th {\n",
       "        text-align: right;\n",
       "    }\n",
       "</style>\n",
       "<table border=\"1\" class=\"dataframe\">\n",
       "  <thead>\n",
       "    <tr style=\"text-align: right;\">\n",
       "      <th></th>\n",
       "      <th>Rank</th>\n",
       "      <th>title</th>\n",
       "      <th>score</th>\n",
       "      <th>id</th>\n",
       "      <th>url</th>\n",
       "      <th>comms_num</th>\n",
       "      <th>author</th>\n",
       "      <th>upvote_ratio</th>\n",
       "      <th>flair</th>\n",
       "      <th>created_utc</th>\n",
       "      <th>...</th>\n",
       "      <th>no_crossposts</th>\n",
       "      <th>domain</th>\n",
       "      <th>is_crosspostable</th>\n",
       "      <th>view_count</th>\n",
       "      <th>visited</th>\n",
       "      <th>upvote</th>\n",
       "      <th>ups</th>\n",
       "      <th>is_video</th>\n",
       "      <th>link_flair_text</th>\n",
       "      <th>gilded</th>\n",
       "    </tr>\n",
       "  </thead>\n",
       "  <tbody>\n",
       "    <tr>\n",
       "      <th>0</th>\n",
       "      <td>0.0</td>\n",
       "      <td>hodl. My failure to use this one simple techni...</td>\n",
       "      <td>2</td>\n",
       "      <td>op1rxp</td>\n",
       "      <td>https://www.reddit.com/r/CryptoCurrency/commen...</td>\n",
       "      <td>0</td>\n",
       "      <td>heymeit</td>\n",
       "      <td>1</td>\n",
       "      <td>NaN</td>\n",
       "      <td>1626910211</td>\n",
       "      <td>...</td>\n",
       "      <td>0</td>\n",
       "      <td>self.CryptoCurrency</td>\n",
       "      <td>TRUE</td>\n",
       "      <td>NaN</td>\n",
       "      <td>FALSE</td>\n",
       "      <td>&lt;bound method VotableMixin.upvote of Submissio...</td>\n",
       "      <td>2</td>\n",
       "      <td>FALSE</td>\n",
       "      <td>SELF-STORY</td>\n",
       "      <td>0</td>\n",
       "    </tr>\n",
       "    <tr>\n",
       "      <th>1</th>\n",
       "      <td>1.0</td>\n",
       "      <td>Elon Musk says Tesla will likely start accepti...</td>\n",
       "      <td>2</td>\n",
       "      <td>op1rqt</td>\n",
       "      <td>https://www.cnbc.com/2021/07/21/elon-musk-says...</td>\n",
       "      <td>1</td>\n",
       "      <td>HurrayYouReadMyName</td>\n",
       "      <td>1</td>\n",
       "      <td>Tin</td>\n",
       "      <td>1626910195</td>\n",
       "      <td>...</td>\n",
       "      <td>0</td>\n",
       "      <td>cnbc.com</td>\n",
       "      <td>TRUE</td>\n",
       "      <td>NaN</td>\n",
       "      <td>FALSE</td>\n",
       "      <td>&lt;bound method VotableMixin.upvote of Submissio...</td>\n",
       "      <td>2</td>\n",
       "      <td>FALSE</td>\n",
       "      <td>🟢 ADOPTION</td>\n",
       "      <td>0</td>\n",
       "    </tr>\n",
       "    <tr>\n",
       "      <th>2</th>\n",
       "      <td>2.0</td>\n",
       "      <td>Is Uniswap the best DEX? What do you guys think?</td>\n",
       "      <td>4</td>\n",
       "      <td>op1n59</td>\n",
       "      <td>https://academy.shrimpy.io/post/what-is-uniswa...</td>\n",
       "      <td>8</td>\n",
       "      <td>ShrimpyApp</td>\n",
       "      <td>0.75</td>\n",
       "      <td>Gold | TraderSubs 18</td>\n",
       "      <td>1626909763</td>\n",
       "      <td>...</td>\n",
       "      <td>0</td>\n",
       "      <td>academy.shrimpy.io</td>\n",
       "      <td>TRUE</td>\n",
       "      <td>NaN</td>\n",
       "      <td>FALSE</td>\n",
       "      <td>&lt;bound method VotableMixin.upvote of Submissio...</td>\n",
       "      <td>4</td>\n",
       "      <td>FALSE</td>\n",
       "      <td>EXCHANGE</td>\n",
       "      <td>0</td>\n",
       "    </tr>\n",
       "    <tr>\n",
       "      <th>3</th>\n",
       "      <td>3.0</td>\n",
       "      <td>Ethereum price rises after Elon Musk confirms ...</td>\n",
       "      <td>0</td>\n",
       "      <td>op1m7f</td>\n",
       "      <td>https://www.cnbc.com/2021/07/21/elon-musk-jack...</td>\n",
       "      <td>12</td>\n",
       "      <td>Ocilla</td>\n",
       "      <td>0.29</td>\n",
       "      <td></td>\n",
       "      <td>1626909676</td>\n",
       "      <td>...</td>\n",
       "      <td>0</td>\n",
       "      <td>cnbc.com</td>\n",
       "      <td>TRUE</td>\n",
       "      <td>NaN</td>\n",
       "      <td>FALSE</td>\n",
       "      <td>&lt;bound method VotableMixin.upvote of Submissio...</td>\n",
       "      <td>0</td>\n",
       "      <td>FALSE</td>\n",
       "      <td>🟢 TRADING</td>\n",
       "      <td>0</td>\n",
       "    </tr>\n",
       "    <tr>\n",
       "      <th>4</th>\n",
       "      <td>4.0</td>\n",
       "      <td>Have you guys looked into Cryptogames and the ...</td>\n",
       "      <td>2</td>\n",
       "      <td>op1lm1</td>\n",
       "      <td>https://www.reddit.com/r/CryptoCurrency/commen...</td>\n",
       "      <td>14</td>\n",
       "      <td>Thecynicalreeder</td>\n",
       "      <td>0.67</td>\n",
       "      <td>NaN</td>\n",
       "      <td>1626909624</td>\n",
       "      <td>...</td>\n",
       "      <td>0</td>\n",
       "      <td>self.CryptoCurrency</td>\n",
       "      <td>TRUE</td>\n",
       "      <td>NaN</td>\n",
       "      <td>FALSE</td>\n",
       "      <td>&lt;bound method VotableMixin.upvote of Submissio...</td>\n",
       "      <td>2</td>\n",
       "      <td>FALSE</td>\n",
       "      <td>TRADING</td>\n",
       "      <td>0</td>\n",
       "    </tr>\n",
       "  </tbody>\n",
       "</table>\n",
       "<p>5 rows × 22 columns</p>\n",
       "</div>"
      ],
      "text/plain": [
       "   Rank                                              title score      id  \\\n",
       "0   0.0  hodl. My failure to use this one simple techni...     2  op1rxp   \n",
       "1   1.0  Elon Musk says Tesla will likely start accepti...     2  op1rqt   \n",
       "2   2.0   Is Uniswap the best DEX? What do you guys think?     4  op1n59   \n",
       "3   3.0  Ethereum price rises after Elon Musk confirms ...     0  op1m7f   \n",
       "4   4.0  Have you guys looked into Cryptogames and the ...     2  op1lm1   \n",
       "\n",
       "                                                 url comms_num  \\\n",
       "0  https://www.reddit.com/r/CryptoCurrency/commen...         0   \n",
       "1  https://www.cnbc.com/2021/07/21/elon-musk-says...         1   \n",
       "2  https://academy.shrimpy.io/post/what-is-uniswa...         8   \n",
       "3  https://www.cnbc.com/2021/07/21/elon-musk-jack...        12   \n",
       "4  https://www.reddit.com/r/CryptoCurrency/commen...        14   \n",
       "\n",
       "                author upvote_ratio                 flair created_utc  ...  \\\n",
       "0              heymeit            1                   NaN  1626910211  ...   \n",
       "1  HurrayYouReadMyName            1                   Tin  1626910195  ...   \n",
       "2           ShrimpyApp         0.75  Gold | TraderSubs 18  1626909763  ...   \n",
       "3               Ocilla         0.29                        1626909676  ...   \n",
       "4     Thecynicalreeder         0.67                   NaN  1626909624  ...   \n",
       "\n",
       "  no_crossposts               domain is_crosspostable view_count visited  \\\n",
       "0             0  self.CryptoCurrency             TRUE        NaN   FALSE   \n",
       "1             0             cnbc.com             TRUE        NaN   FALSE   \n",
       "2             0   academy.shrimpy.io             TRUE        NaN   FALSE   \n",
       "3             0             cnbc.com             TRUE        NaN   FALSE   \n",
       "4             0  self.CryptoCurrency             TRUE        NaN   FALSE   \n",
       "\n",
       "                                              upvote ups is_video  \\\n",
       "0  <bound method VotableMixin.upvote of Submissio...   2    FALSE   \n",
       "1  <bound method VotableMixin.upvote of Submissio...   2    FALSE   \n",
       "2  <bound method VotableMixin.upvote of Submissio...   4    FALSE   \n",
       "3  <bound method VotableMixin.upvote of Submissio...   0    FALSE   \n",
       "4  <bound method VotableMixin.upvote of Submissio...   2    FALSE   \n",
       "\n",
       "  link_flair_text gilded  \n",
       "0      SELF-STORY      0  \n",
       "1      🟢 ADOPTION      0  \n",
       "2        EXCHANGE      0  \n",
       "3       🟢 TRADING      0  \n",
       "4         TRADING      0  \n",
       "\n",
       "[5 rows x 22 columns]"
      ]
     },
     "execution_count": 18,
     "metadata": {},
     "output_type": "execute_result"
    }
   ],
   "source": [
    "import pandas as pd \n",
    "\n",
    "new_news1=pd.read_csv('/Users/adityaravindrabhat/Downloads/Final Datasets/new_crypto.csv')\n",
    "new_news2=pd.read_csv('/Users/adityaravindrabhat/Downloads/Final Datasets/new_crypto1.csv')\n",
    "new_news=pd.concat([new_news1,new_news2],axis=0)\n",
    "new_news.head()"
   ]
  },
  {
   "cell_type": "code",
   "execution_count": 19,
   "id": "3a0fe6de",
   "metadata": {},
   "outputs": [
    {
     "data": {
      "text/plain": [
       "(2141, 22)"
      ]
     },
     "execution_count": 19,
     "metadata": {},
     "output_type": "execute_result"
    }
   ],
   "source": [
    "new_news1.shape"
   ]
  },
  {
   "cell_type": "code",
   "execution_count": 20,
   "id": "75e3dd15",
   "metadata": {},
   "outputs": [
    {
     "data": {
      "text/plain": [
       "(10964, 22)"
      ]
     },
     "execution_count": 20,
     "metadata": {},
     "output_type": "execute_result"
    }
   ],
   "source": [
    "new_news2.shape"
   ]
  },
  {
   "cell_type": "code",
   "execution_count": 21,
   "id": "3f9a3581",
   "metadata": {},
   "outputs": [
    {
     "name": "stdout",
     "output_type": "stream",
     "text": [
      "<class 'pandas.core.frame.DataFrame'>\n",
      "Int64Index: 13105 entries, 0 to 10963\n",
      "Data columns (total 22 columns):\n",
      " #   Column            Non-Null Count  Dtype  \n",
      "---  ------            --------------  -----  \n",
      " 0   Rank              12850 non-null  float64\n",
      " 1   title             13105 non-null  object \n",
      " 2   score             13105 non-null  object \n",
      " 3   id                13105 non-null  object \n",
      " 4   url               13105 non-null  object \n",
      " 5   comms_num         13105 non-null  object \n",
      " 6   author            13105 non-null  object \n",
      " 7   upvote_ratio      13105 non-null  object \n",
      " 8   flair             10257 non-null  object \n",
      " 9   created_utc       13105 non-null  object \n",
      " 10  clicked           13105 non-null  object \n",
      " 11  edited            13105 non-null  object \n",
      " 12  no_crossposts     13105 non-null  object \n",
      " 13  domain            13105 non-null  object \n",
      " 14  is_crosspostable  13105 non-null  object \n",
      " 15  view_count        255 non-null    object \n",
      " 16  visited           13105 non-null  object \n",
      " 17  upvote            13105 non-null  object \n",
      " 18  ups               13105 non-null  object \n",
      " 19  is_video          13105 non-null  object \n",
      " 20  link_flair_text   12847 non-null  object \n",
      " 21  gilded            13105 non-null  object \n",
      "dtypes: float64(1), object(21)\n",
      "memory usage: 2.3+ MB\n"
     ]
    }
   ],
   "source": [
    "new_news.info()"
   ]
  },
  {
   "cell_type": "code",
   "execution_count": 22,
   "id": "b42b1df3",
   "metadata": {},
   "outputs": [
    {
     "name": "stdout",
     "output_type": "stream",
     "text": [
      "<class 'pandas.core.frame.DataFrame'>\n",
      "Int64Index: 12850 entries, 0 to 10963\n",
      "Data columns (total 22 columns):\n",
      " #   Column            Non-Null Count  Dtype  \n",
      "---  ------            --------------  -----  \n",
      " 0   Rank              12850 non-null  float64\n",
      " 1   title             12850 non-null  object \n",
      " 2   score             12850 non-null  object \n",
      " 3   id                12850 non-null  object \n",
      " 4   url               12850 non-null  object \n",
      " 5   comms_num         12850 non-null  object \n",
      " 6   author            12850 non-null  object \n",
      " 7   upvote_ratio      12850 non-null  object \n",
      " 8   flair             10002 non-null  object \n",
      " 9   created_utc       12850 non-null  object \n",
      " 10  clicked           12850 non-null  object \n",
      " 11  edited            12850 non-null  object \n",
      " 12  no_crossposts     12850 non-null  object \n",
      " 13  domain            12850 non-null  object \n",
      " 14  is_crosspostable  12850 non-null  object \n",
      " 15  view_count        0 non-null      object \n",
      " 16  visited           12850 non-null  object \n",
      " 17  upvote            12850 non-null  object \n",
      " 18  ups               12850 non-null  object \n",
      " 19  is_video          12850 non-null  object \n",
      " 20  link_flair_text   12592 non-null  object \n",
      " 21  gilded            12850 non-null  object \n",
      "dtypes: float64(1), object(21)\n",
      "memory usage: 2.3+ MB\n"
     ]
    }
   ],
   "source": [
    "new_news=new_news.dropna(subset=['Rank'])\n",
    "new_news['Rank']=new_news['Rank']+1\n",
    "new_news.info()"
   ]
  },
  {
   "cell_type": "code",
   "execution_count": 23,
   "id": "be9d8f31",
   "metadata": {},
   "outputs": [],
   "source": [
    "new_news=new_news.drop(columns=['view_count'],axis='columns')"
   ]
  },
  {
   "cell_type": "code",
   "execution_count": 24,
   "id": "12009291",
   "metadata": {},
   "outputs": [
    {
     "data": {
      "text/plain": [
       "0   2021-07-21 19:30:11-04:00\n",
       "1   2021-07-21 19:29:55-04:00\n",
       "2   2021-07-21 19:22:43-04:00\n",
       "3   2021-07-21 19:21:16-04:00\n",
       "4   2021-07-21 19:20:24-04:00\n",
       "Name: created_utc, dtype: datetime64[ns, US/Eastern]"
      ]
     },
     "execution_count": 24,
     "metadata": {},
     "output_type": "execute_result"
    }
   ],
   "source": [
    "new_news['created_utc']=pd.to_datetime(new_news.created_utc,unit='s').dt.tz_localize('utc').dt.tz_convert('US/Eastern')\n",
    "new_news['created_utc'].head()"
   ]
  },
  {
   "cell_type": "code",
   "execution_count": 25,
   "id": "f4a469f4",
   "metadata": {},
   "outputs": [],
   "source": [
    "new_news['created_date']=new_news['created_utc'].dt.date\n",
    "new_news['created_time']=new_news['created_utc'].dt.time"
   ]
  },
  {
   "cell_type": "code",
   "execution_count": 26,
   "id": "e2164e90",
   "metadata": {},
   "outputs": [
    {
     "data": {
      "text/plain": [
       "0    19:30:11\n",
       "1    19:29:55\n",
       "2    19:22:43\n",
       "3    19:21:16\n",
       "4    19:20:24\n",
       "Name: created_time, dtype: object"
      ]
     },
     "execution_count": 26,
     "metadata": {},
     "output_type": "execute_result"
    }
   ],
   "source": [
    "new_news['created_time'].head()"
   ]
  },
  {
   "cell_type": "code",
   "execution_count": 27,
   "id": "26aa1096",
   "metadata": {},
   "outputs": [
    {
     "name": "stdout",
     "output_type": "stream",
     "text": [
      "<class 'pandas.core.frame.DataFrame'>\n",
      "Int64Index: 12794 entries, 0 to 10963\n",
      "Data columns (total 23 columns):\n",
      " #   Column            Non-Null Count  Dtype                     \n",
      "---  ------            --------------  -----                     \n",
      " 0   Rank              12794 non-null  float64                   \n",
      " 1   title             12794 non-null  object                    \n",
      " 2   score             12794 non-null  object                    \n",
      " 3   id                12794 non-null  object                    \n",
      " 4   url               12794 non-null  object                    \n",
      " 5   comms_num         12794 non-null  object                    \n",
      " 6   author            12794 non-null  object                    \n",
      " 7   upvote_ratio      12794 non-null  object                    \n",
      " 8   flair             10002 non-null  object                    \n",
      " 9   created_utc       12794 non-null  datetime64[ns, US/Eastern]\n",
      " 10  clicked           12794 non-null  object                    \n",
      " 11  edited            12794 non-null  object                    \n",
      " 12  no_crossposts     12794 non-null  object                    \n",
      " 13  domain            12794 non-null  object                    \n",
      " 14  is_crosspostable  12794 non-null  object                    \n",
      " 15  visited           12794 non-null  object                    \n",
      " 16  upvote            12794 non-null  object                    \n",
      " 17  ups               12794 non-null  object                    \n",
      " 18  is_video          12794 non-null  object                    \n",
      " 19  link_flair_text   12536 non-null  object                    \n",
      " 20  gilded            12794 non-null  object                    \n",
      " 21  created_date      12794 non-null  object                    \n",
      " 22  created_time      12794 non-null  object                    \n",
      "dtypes: datetime64[ns, US/Eastern](1), float64(1), object(21)\n",
      "memory usage: 2.3+ MB\n"
     ]
    }
   ],
   "source": [
    "#Removing all the auto moderated posts as they are discussions and not links to posts\n",
    "new_news=new_news[new_news['author']!=\"AutoModerator\"]\n",
    "new_news.info()"
   ]
  },
  {
   "cell_type": "code",
   "execution_count": 28,
   "id": "5b49a19f",
   "metadata": {},
   "outputs": [],
   "source": [
    "new_news.to_csv('/Users/adityaravindrabhat/Downloads/Final Datasets/SemicleanDatasets_v1/new_crypto1.csv')"
   ]
  },
  {
   "cell_type": "code",
   "execution_count": 9,
   "id": "a2ae5ac3",
   "metadata": {},
   "outputs": [],
   "source": [
    "import pandas as pd \n",
    "new_news=pd.read_csv('/Users/adityaravindrabhat/Downloads/Final Datasets/SemicleanDatasets_v1/new_news_v1.csv')"
   ]
  },
  {
   "cell_type": "code",
   "execution_count": 29,
   "id": "9a1958ef",
   "metadata": {},
   "outputs": [
    {
     "name": "stdout",
     "output_type": "stream",
     "text": [
      "97.26434266062218\n"
     ]
    }
   ],
   "source": [
    "new_unique_count=new_news['id'].nunique()\n",
    "print((new_unique_count/len(new_news))*100)"
   ]
  },
  {
   "cell_type": "code",
   "execution_count": 30,
   "id": "f49f0488",
   "metadata": {},
   "outputs": [
    {
     "data": {
      "text/plain": [
       "12434"
      ]
     },
     "execution_count": 30,
     "metadata": {},
     "output_type": "execute_result"
    }
   ],
   "source": [
    "#extracting the unique urls to extract the news articles\n",
    "unique_urls=new_news['url'].unique()\n",
    "len(unique_urls)"
   ]
  },
  {
   "cell_type": "code",
   "execution_count": 31,
   "id": "46918db8",
   "metadata": {},
   "outputs": [],
   "source": [
    "unique_urls=unique_urls.tolist()"
   ]
  },
  {
   "cell_type": "code",
   "execution_count": 32,
   "id": "fed6caa2",
   "metadata": {},
   "outputs": [],
   "source": [
    "from goose3 import Goose\n",
    "from datetime import datetime "
   ]
  },
  {
   "cell_type": "code",
   "execution_count": 33,
   "id": "d4c5e9e6",
   "metadata": {},
   "outputs": [],
   "source": [
    "goose=Goose()\n",
    "goose.config.https_timeout=120\n",
    "goose.browser_user_agent= \"Mozilla/5.0 (Macintosh; Intel Mac OS X 10_7_2)\""
   ]
  },
  {
   "cell_type": "code",
   "execution_count": 34,
   "id": "def01816",
   "metadata": {},
   "outputs": [],
   "source": [
    "articles_dict={ \n",
    "                \"title\":[],\\\n",
    "               \"published_at\":[],\\\n",
    "               \"publish_date\":[],\\\n",
    "               \"tweets\":[],\\\n",
    "               \"domain\":[],\\\n",
    "               \"movies\":[],\\\n",
    "               \"tags\"  :[],\\\n",
    "               \"top_image\":[],\\\n",
    "               \"links\":[]\n",
    "              \n",
    "               \n",
    "}\n",
    "\n"
   ]
  },
  {
   "cell_type": "code",
   "execution_count": 35,
   "id": "cb65e3c4",
   "metadata": {},
   "outputs": [],
   "source": [
    "for i in range(len(unique_urls)):\n",
    "    try:  \n",
    "        article=goose.extract(url=unique_urls[i])\n",
    "        articles_dict[\"title\"].append(article.title)\n",
    "        articles_dict[\"published_at\"].append(article.publish_datetime_utc)\n",
    "        articles_dict[\"publish_date\"].append(article.publish_date)\n",
    "        articles_dict[\"tweets\"].append(article.tweets)\n",
    "        articles_dict['domain'].append(article.domain)\n",
    "        articles_dict['tags'].append(article.tags)\n",
    "        articles_dict['movies'].append(article.movies)\n",
    "        articles_dict['top_image'].append(article.top_image)\n",
    "        articles_dict['links'].append(article.links)\n",
    "        \n",
    "    except:\n",
    "        continue "
   ]
  },
  {
   "cell_type": "code",
   "execution_count": 36,
   "id": "c9827eb0",
   "metadata": {},
   "outputs": [
    {
     "data": {
      "text/html": [
       "<div>\n",
       "<style scoped>\n",
       "    .dataframe tbody tr th:only-of-type {\n",
       "        vertical-align: middle;\n",
       "    }\n",
       "\n",
       "    .dataframe tbody tr th {\n",
       "        vertical-align: top;\n",
       "    }\n",
       "\n",
       "    .dataframe thead th {\n",
       "        text-align: right;\n",
       "    }\n",
       "</style>\n",
       "<table border=\"1\" class=\"dataframe\">\n",
       "  <thead>\n",
       "    <tr style=\"text-align: right;\">\n",
       "      <th></th>\n",
       "      <th>title</th>\n",
       "      <th>published_at</th>\n",
       "      <th>publish_date</th>\n",
       "      <th>tweets</th>\n",
       "      <th>domain</th>\n",
       "      <th>movies</th>\n",
       "      <th>tags</th>\n",
       "      <th>top_image</th>\n",
       "      <th>links</th>\n",
       "    </tr>\n",
       "  </thead>\n",
       "  <tbody>\n",
       "    <tr>\n",
       "      <th>0</th>\n",
       "      <td>r/CryptoCurrency - hodl. My failure to use thi...</td>\n",
       "      <td>None</td>\n",
       "      <td>None</td>\n",
       "      <td>[]</td>\n",
       "      <td>www.reddit.com</td>\n",
       "      <td>[]</td>\n",
       "      <td>[]</td>\n",
       "      <td>None</td>\n",
       "      <td>[]</td>\n",
       "    </tr>\n",
       "    <tr>\n",
       "      <th>1</th>\n",
       "      <td>Elon Musk walks back his fossil fuel worries, ...</td>\n",
       "      <td>2021-07-21 19:05:52+00:00</td>\n",
       "      <td>2021-07-21T19:05:52+0000</td>\n",
       "      <td>[]</td>\n",
       "      <td>www.cnbc.com</td>\n",
       "      <td>[]</td>\n",
       "      <td>[]</td>\n",
       "      <td>None</td>\n",
       "      <td>[//www.cnbc.com/quotes/TSLA, https://www.thebw...</td>\n",
       "    </tr>\n",
       "    <tr>\n",
       "      <th>2</th>\n",
       "      <td>What Is Uniswap (UNI)? The Best Decentralized ...</td>\n",
       "      <td>None</td>\n",
       "      <td>None</td>\n",
       "      <td>[]</td>\n",
       "      <td>academy.shrimpy.io</td>\n",
       "      <td>[]</td>\n",
       "      <td>[]</td>\n",
       "      <td>None</td>\n",
       "      <td>[http://uniswap.org/, https://academy.shrimpy....</td>\n",
       "    </tr>\n",
       "    <tr>\n",
       "      <th>3</th>\n",
       "      <td>Ethereum price rises after Elon Musk confirms ...</td>\n",
       "      <td>2021-07-21 18:32:19+00:00</td>\n",
       "      <td>2021-07-21T18:32:19+0000</td>\n",
       "      <td>[]</td>\n",
       "      <td>www.cnbc.com</td>\n",
       "      <td>[]</td>\n",
       "      <td>[]</td>\n",
       "      <td>None</td>\n",
       "      <td>[//www.cnbc.com/quotes/TSLA, https://www.thebw...</td>\n",
       "    </tr>\n",
       "    <tr>\n",
       "      <th>4</th>\n",
       "      <td>r/CryptoCurrency - Have you guys looked into C...</td>\n",
       "      <td>None</td>\n",
       "      <td>None</td>\n",
       "      <td>[]</td>\n",
       "      <td>www.reddit.com</td>\n",
       "      <td>[]</td>\n",
       "      <td>[]</td>\n",
       "      <td>None</td>\n",
       "      <td>[]</td>\n",
       "    </tr>\n",
       "  </tbody>\n",
       "</table>\n",
       "</div>"
      ],
      "text/plain": [
       "                                               title  \\\n",
       "0  r/CryptoCurrency - hodl. My failure to use thi...   \n",
       "1  Elon Musk walks back his fossil fuel worries, ...   \n",
       "2  What Is Uniswap (UNI)? The Best Decentralized ...   \n",
       "3  Ethereum price rises after Elon Musk confirms ...   \n",
       "4  r/CryptoCurrency - Have you guys looked into C...   \n",
       "\n",
       "                published_at              publish_date tweets  \\\n",
       "0                       None                      None     []   \n",
       "1  2021-07-21 19:05:52+00:00  2021-07-21T19:05:52+0000     []   \n",
       "2                       None                      None     []   \n",
       "3  2021-07-21 18:32:19+00:00  2021-07-21T18:32:19+0000     []   \n",
       "4                       None                      None     []   \n",
       "\n",
       "               domain movies tags top_image  \\\n",
       "0      www.reddit.com     []   []      None   \n",
       "1        www.cnbc.com     []   []      None   \n",
       "2  academy.shrimpy.io     []   []      None   \n",
       "3        www.cnbc.com     []   []      None   \n",
       "4      www.reddit.com     []   []      None   \n",
       "\n",
       "                                               links  \n",
       "0                                                 []  \n",
       "1  [//www.cnbc.com/quotes/TSLA, https://www.thebw...  \n",
       "2  [http://uniswap.org/, https://academy.shrimpy....  \n",
       "3  [//www.cnbc.com/quotes/TSLA, https://www.thebw...  \n",
       "4                                                 []  "
      ]
     },
     "execution_count": 36,
     "metadata": {},
     "output_type": "execute_result"
    }
   ],
   "source": [
    "article_meta=pd.DataFrame.from_dict( articles_dict)\n",
    "article_meta.head()"
   ]
  },
  {
   "cell_type": "code",
   "execution_count": 37,
   "id": "652bce2e",
   "metadata": {},
   "outputs": [],
   "source": [
    "article_meta.to_csv('/Users/adityaravindrabhat/Downloads/Final Datasets/Goose Dataset/new_crypto_news_articles_meta.csv')"
   ]
  },
  {
   "cell_type": "code",
   "execution_count": 38,
   "id": "58e7733a",
   "metadata": {},
   "outputs": [],
   "source": [
    "article_body={\n",
    "    'body':[]\n",
    "}"
   ]
  },
  {
   "cell_type": "code",
   "execution_count": 39,
   "id": "22b9f0bd",
   "metadata": {},
   "outputs": [],
   "source": [
    "for i in range(len(unique_urls)):\n",
    "    try:\n",
    "            body=goose.extract(url=unique_urls[i])\n",
    "            article_body[\"body\"].append(body.cleaned_text)\n",
    "    except :\n",
    "        continue\n"
   ]
  },
  {
   "cell_type": "code",
   "execution_count": 40,
   "id": "a6143060",
   "metadata": {},
   "outputs": [],
   "source": [
    "\n",
    "art=list(article_body.values())\n",
    "\n",
    "file = '/Users/adityaravindrabhat/Downloads/Final Datasets/Goose Text Articles/new_crypto_news_articles1/file{}.txt'\n",
    "n=1\n",
    "for i in range(len(art[0])):\n",
    "    with open(file.format(n),'w') as f :\n",
    "        f.write(str(art[0][i]))\n",
    "        n+=1"
   ]
  },
  {
   "cell_type": "code",
   "execution_count": null,
   "id": "f9e0f673",
   "metadata": {},
   "outputs": [],
   "source": []
  }
 ],
 "metadata": {
  "kernelspec": {
   "display_name": "Python 3",
   "language": "python",
   "name": "python3"
  },
  "language_info": {
   "codemirror_mode": {
    "name": "ipython",
    "version": 3
   },
   "file_extension": ".py",
   "mimetype": "text/x-python",
   "name": "python",
   "nbconvert_exporter": "python",
   "pygments_lexer": "ipython3",
   "version": "3.8.8"
  }
 },
 "nbformat": 4,
 "nbformat_minor": 5
}
