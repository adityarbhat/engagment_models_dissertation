{
 "cells": [
  {
   "cell_type": "code",
   "execution_count": 1,
   "id": "24efddc3-ee65-43a9-b87c-3b43d049cf12",
   "metadata": {},
   "outputs": [],
   "source": [
    "import pandas as pd  "
   ]
  },
  {
   "cell_type": "code",
   "execution_count": 2,
   "id": "bb528b45-cea9-4314-b6b4-20a8fe965b8c",
   "metadata": {},
   "outputs": [],
   "source": [
    "new_news_meta=pd.read_csv('/Users/adityaravindrabhat/Documents/GitHub/engagement_models/Datasets/MetaAndTextDatasets/new_news/new_news_meta.csv')"
   ]
  },
  {
   "cell_type": "code",
   "execution_count": 3,
   "id": "4ad9580d-b97d-4af1-a5f6-82b49ea13c50",
   "metadata": {},
   "outputs": [],
   "source": [
    "new_news=pd.read_csv('/Users/adityaravindrabhat/Documents/GitHub/engagement_models/Datasets/new_news_v1.csv')"
   ]
  },
  {
   "cell_type": "code",
   "execution_count": 4,
   "id": "5a630d69-4ff2-43e6-956e-e9b0bb9b972b",
   "metadata": {},
   "outputs": [],
   "source": [
    "new_news_meta['link_count']=new_news_meta['links'].apply(lambda n: len(n.split(',')))"
   ]
  },
  {
   "cell_type": "code",
   "execution_count": 5,
   "id": "ad63df07-ffb6-4ab2-b741-9fbf3b805cfd",
   "metadata": {},
   "outputs": [
    {
     "data": {
      "text/plain": [
       "count    3692.000000\n",
       "mean        5.888678\n",
       "std         7.662362\n",
       "min         1.000000\n",
       "25%         1.000000\n",
       "50%         4.000000\n",
       "75%         8.000000\n",
       "max       232.000000\n",
       "Name: link_count, dtype: float64"
      ]
     },
     "execution_count": 5,
     "metadata": {},
     "output_type": "execute_result"
    }
   ],
   "source": [
    "new_news_meta['link_count'].describe()"
   ]
  },
  {
   "cell_type": "code",
   "execution_count": 6,
   "id": "6c36c403-3d17-4c9f-9e77-0b65a0069229",
   "metadata": {},
   "outputs": [
    {
     "data": {
      "text/plain": [
       "4.0"
      ]
     },
     "execution_count": 6,
     "metadata": {},
     "output_type": "execute_result"
    }
   ],
   "source": [
    "new_news_meta['link_count'].median()"
   ]
  },
  {
   "cell_type": "code",
   "execution_count": 7,
   "id": "0e9e5e7d-12e1-40c5-a12a-2c31d14cbf06",
   "metadata": {},
   "outputs": [
    {
     "data": {
      "text/plain": [
       "apnews.com         9.382353\n",
       "cnn.com            9.000000\n",
       "reuters.com        6.784314\n",
       "nbcnews.com        6.686275\n",
       "theguardian.com    6.156863\n",
       "abcnews.go.com     5.941176\n",
       "cnbc.com           4.352941\n",
       "bbc.com            3.990196\n",
       "aljazeera.com      2.196078\n",
       "cbc.ca             1.901961\n",
       "Name: domain, dtype: float64"
      ]
     },
     "execution_count": 7,
     "metadata": {},
     "output_type": "execute_result"
    }
   ],
   "source": [
    "new_news['domain'].value_counts(normalize=True).nlargest(10)*100"
   ]
  },
  {
   "cell_type": "code",
   "execution_count": null,
   "id": "803a4281-98eb-41e2-b110-e2b08d314ec7",
   "metadata": {},
   "outputs": [],
   "source": []
  }
 ],
 "metadata": {
  "kernelspec": {
   "display_name": "Python 3",
   "language": "python",
   "name": "python3"
  },
  "language_info": {
   "codemirror_mode": {
    "name": "ipython",
    "version": 3
   },
   "file_extension": ".py",
   "mimetype": "text/x-python",
   "name": "python",
   "nbconvert_exporter": "python",
   "pygments_lexer": "ipython3",
   "version": "3.8.8"
  }
 },
 "nbformat": 4,
 "nbformat_minor": 5
}
