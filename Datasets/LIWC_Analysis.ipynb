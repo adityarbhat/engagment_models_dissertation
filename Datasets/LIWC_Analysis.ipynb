{
 "cells": [
  {
   "cell_type": "code",
   "execution_count": 1,
   "id": "ba3673ae-8e46-4a5d-b1ca-141c314155cb",
   "metadata": {},
   "outputs": [],
   "source": [
    "import pandas as pd "
   ]
  },
  {
   "cell_type": "code",
   "execution_count": 13,
   "id": "3f734156-6004-4a91-89c9-727ccf881c85",
   "metadata": {},
   "outputs": [],
   "source": [
    "hot_news=pd.read_csv('/Users/adityaravindrabhat/Documents/GitHub/engagement_models/Datasets/liwc_hot_news.csv')"
   ]
  },
  {
   "cell_type": "code",
   "execution_count": 14,
   "id": "438de1c5-fdf9-49bc-b577-215971d1dcf4",
   "metadata": {},
   "outputs": [],
   "source": [
    "new_news=pd.read_csv('/Users/adityaravindrabhat/Documents/GitHub/engagement_models/Datasets/liwc_new_news.csv')"
   ]
  },
  {
   "cell_type": "code",
   "execution_count": 15,
   "id": "1cff8761-00ab-4bd9-a0f8-9b41adeba529",
   "metadata": {},
   "outputs": [],
   "source": [
    "hot_crypto=pd.read_csv('/Users/adityaravindrabhat/Documents/GitHub/engagement_models/Datasets/liwc_hot_crypto.csv')"
   ]
  },
  {
   "cell_type": "code",
   "execution_count": 16,
   "id": "55c6d21b-7495-4418-b81f-326b519ef27e",
   "metadata": {},
   "outputs": [],
   "source": [
    "new_crypto=pd.read_csv('/Users/adityaravindrabhat/Documents/GitHub/engagement_models/Datasets/liwc_new_crypto.csv')"
   ]
  },
  {
   "cell_type": "code",
   "execution_count": 6,
   "id": "500393c3-39d7-4efd-8f9d-fd2f2cfacb9d",
   "metadata": {},
   "outputs": [
    {
     "data": {
      "text/plain": [
       "Index(['name', 'Segment', 'WC', 'Analytic', 'Clout', 'Authentic', 'Tone',\n",
       "       'WPS', 'Sixltr', 'Dic', 'function', 'pronoun', 'ppron', 'i', 'we',\n",
       "       'you', 'shehe', 'they', 'ipron', 'article', 'prep', 'auxverb', 'adverb',\n",
       "       'conj', 'negate', 'verb', 'adj', 'compare', 'interrog', 'number',\n",
       "       'quant', 'affect', 'posemo', 'negemo', 'anx', 'anger', 'sad', 'social',\n",
       "       'family', 'friend', 'female', 'male', 'cogproc', 'insight', 'cause',\n",
       "       'discrep', 'tentat', 'certain', 'differ', 'percept', 'see', 'hear',\n",
       "       'feel', 'bio', 'body', 'health', 'sexual', 'ingest', 'drives',\n",
       "       'affiliation', 'achieve', 'power', 'reward', 'risk', 'focuspast',\n",
       "       'focuspresent', 'focusfuture', 'relativ', 'motion', 'space', 'time',\n",
       "       'work', 'leisure', 'home', 'money', 'relig', 'death', 'informal',\n",
       "       'swear', 'netspeak', 'assent', 'nonflu', 'filler', 'AllPunc', 'Period',\n",
       "       'Comma', 'Colon', 'SemiC', 'QMark', 'Exclam', 'Dash', 'Quote',\n",
       "       'Apostro', 'Parenth', 'OtherP'],\n",
       "      dtype='object')"
      ]
     },
     "execution_count": 6,
     "metadata": {},
     "output_type": "execute_result"
    }
   ],
   "source": [
    "hot_news.columns"
   ]
  },
  {
   "cell_type": "code",
   "execution_count": 35,
   "id": "e66ce163-53dc-4500-83c2-ae2f58052b46",
   "metadata": {},
   "outputs": [
    {
     "data": {
      "text/plain": [
       "92.56517713168832"
      ]
     },
     "execution_count": 35,
     "metadata": {},
     "output_type": "execute_result"
    }
   ],
   "source": [
    "hot_news['Analytic'].mean()"
   ]
  },
  {
   "cell_type": "code",
   "execution_count": 36,
   "id": "0a00f17a-0132-45e3-bd9a-2da8bb40e90b",
   "metadata": {},
   "outputs": [
    {
     "data": {
      "text/plain": [
       "72.21907891522116"
      ]
     },
     "execution_count": 36,
     "metadata": {},
     "output_type": "execute_result"
    }
   ],
   "source": [
    "hot_news['Clout'].mean()"
   ]
  },
  {
   "cell_type": "code",
   "execution_count": 37,
   "id": "da5eb444-4841-46eb-b108-9e47a3e69ca1",
   "metadata": {},
   "outputs": [
    {
     "data": {
      "text/plain": [
       "28.568924993891933"
      ]
     },
     "execution_count": 37,
     "metadata": {},
     "output_type": "execute_result"
    }
   ],
   "source": [
    "hot_news['Authentic'].mean()"
   ]
  },
  {
   "cell_type": "code",
   "execution_count": 38,
   "id": "a1d8b481-c79c-47a6-a665-85d8c6e5ebfa",
   "metadata": {},
   "outputs": [
    {
     "data": {
      "text/plain": [
       "27.78851698021022"
      ]
     },
     "execution_count": 38,
     "metadata": {},
     "output_type": "execute_result"
    }
   ],
   "source": [
    "hot_news['Tone'].mean()"
   ]
  },
  {
   "cell_type": "code",
   "execution_count": 39,
   "id": "6090f48a-5163-4bdd-b492-144241c5ef02",
   "metadata": {},
   "outputs": [
    {
     "data": {
      "text/plain": [
       "52.507170882808836"
      ]
     },
     "execution_count": 39,
     "metadata": {},
     "output_type": "execute_result"
    }
   ],
   "source": [
    "hot_crypto['Tone'].mean()"
   ]
  },
  {
   "cell_type": "code",
   "execution_count": 40,
   "id": "6ed6b41a-3b37-45cc-b60e-d6d16fbda02d",
   "metadata": {},
   "outputs": [
    {
     "data": {
      "text/plain": [
       "71.61433660299465"
      ]
     },
     "execution_count": 40,
     "metadata": {},
     "output_type": "execute_result"
    }
   ],
   "source": [
    "hot_crypto['Analytic'].mean()"
   ]
  },
  {
   "cell_type": "code",
   "execution_count": 41,
   "id": "cb5fcfd0-6578-403a-9413-4bfe507cd29e",
   "metadata": {},
   "outputs": [
    {
     "data": {
      "text/plain": [
       "60.03693082085778"
      ]
     },
     "execution_count": 41,
     "metadata": {},
     "output_type": "execute_result"
    }
   ],
   "source": [
    "hot_crypto['Clout'].mean()"
   ]
  },
  {
   "cell_type": "code",
   "execution_count": 42,
   "id": "13d3abf6-34da-4ff7-9622-968c4a8942a9",
   "metadata": {},
   "outputs": [
    {
     "data": {
      "text/plain": [
       "39.50426561693356"
      ]
     },
     "execution_count": 42,
     "metadata": {},
     "output_type": "execute_result"
    }
   ],
   "source": [
    "hot_crypto['Authentic'].mean()"
   ]
  },
  {
   "cell_type": "code",
   "execution_count": 43,
   "id": "256089ce-4cfa-444b-a840-f1de9ecd3817",
   "metadata": {},
   "outputs": [
    {
     "data": {
      "image/png": "[encoded data removed]",
      "text/plain": [
       "<Figure size 432x288 with 1 Axes>"
      ]
     },
     "metadata": {
      "needs_background": "light"
     },
     "output_type": "display_data"
    }
   ],
   "source": [
    "import numpy as np\n",
    "import matplotlib.pyplot as plt\n",
    "\n",
    "labels = ['Analytic', 'Clout', 'Authentic','Tone']\n",
    "y1=[92.57,72.21,28.57,27.78]\n",
    "y2=[71.61,60.03,39.54,52.50]\n",
    "\n",
    "x = np.arange(4)\n",
    "width=0.2\n",
    "plt.bar(x-0.2, y1, width, color='red')\n",
    "plt.bar(x, y2, width, color='blue')\n",
    "\n",
    "plt.xticks(x, ['Analytic', 'Clout', 'Authentic','Tone'])\n",
    "plt.xlabel(\"LIWC summary variables\")\n",
    "plt.ylabel(\"Mean Value\")\n",
    "plt.legend([\"Hot News\", \"Hot Crypto\"])\n",
    "plt.show()"
   ]
  },
  {
   "cell_type": "code",
   "execution_count": 44,
   "id": "d9a2454e-52cd-4e80-a67a-c4e0201a1644",
   "metadata": {},
   "outputs": [
    {
     "data": {
      "text/plain": [
       "92.67890590809645"
      ]
     },
     "execution_count": 44,
     "metadata": {},
     "output_type": "execute_result"
    }
   ],
   "source": [
    "new_news['Analytic'].mean()"
   ]
  },
  {
   "cell_type": "code",
   "execution_count": 45,
   "id": "ca486f8d-d0eb-4e3c-aa97-2b3e4bfb20c1",
   "metadata": {},
   "outputs": [
    {
     "data": {
      "text/plain": [
       "72.15432166301981"
      ]
     },
     "execution_count": 45,
     "metadata": {},
     "output_type": "execute_result"
    }
   ],
   "source": [
    "new_news['Clout'].mean()"
   ]
  },
  {
   "cell_type": "code",
   "execution_count": 46,
   "id": "b1fbf3dc-6b15-4f2a-ab05-872311281872",
   "metadata": {},
   "outputs": [
    {
     "data": {
      "text/plain": [
       "28.5736050328227"
      ]
     },
     "execution_count": 46,
     "metadata": {},
     "output_type": "execute_result"
    }
   ],
   "source": [
    "new_news['Authentic'].mean()"
   ]
  },
  {
   "cell_type": "code",
   "execution_count": 47,
   "id": "e3b34032-e3ec-41eb-8329-49f325138040",
   "metadata": {},
   "outputs": [
    {
     "data": {
      "text/plain": [
       "28.286208971553652"
      ]
     },
     "execution_count": 47,
     "metadata": {},
     "output_type": "execute_result"
    }
   ],
   "source": [
    "new_news['Tone'].mean()"
   ]
  },
  {
   "cell_type": "code",
   "execution_count": 48,
   "id": "d1ed5667-84ab-43c1-b19e-899b3f40686d",
   "metadata": {},
   "outputs": [
    {
     "data": {
      "text/plain": [
       "73.96298410528019"
      ]
     },
     "execution_count": 48,
     "metadata": {},
     "output_type": "execute_result"
    }
   ],
   "source": [
    "new_crypto['Analytic'].mean()"
   ]
  },
  {
   "cell_type": "code",
   "execution_count": 49,
   "id": "4af4f1c5-f975-4b5e-9371-63506386d388",
   "metadata": {},
   "outputs": [
    {
     "data": {
      "text/plain": [
       "58.9986113484879"
      ]
     },
     "execution_count": 49,
     "metadata": {},
     "output_type": "execute_result"
    }
   ],
   "source": [
    "new_crypto['Clout'].mean()"
   ]
  },
  {
   "cell_type": "code",
   "execution_count": 50,
   "id": "eadb53b7-87de-4ebb-ac30-4e5425ade206",
   "metadata": {},
   "outputs": [
    {
     "data": {
      "text/plain": [
       "39.03497436335721"
      ]
     },
     "execution_count": 50,
     "metadata": {},
     "output_type": "execute_result"
    }
   ],
   "source": [
    "new_crypto['Authentic'].mean()"
   ]
  },
  {
   "cell_type": "code",
   "execution_count": 51,
   "id": "6dc99fdd-6e49-4b26-afd7-e7365002bc3e",
   "metadata": {},
   "outputs": [
    {
     "data": {
      "text/plain": [
       "51.90612117586867"
      ]
     },
     "execution_count": 51,
     "metadata": {},
     "output_type": "execute_result"
    }
   ],
   "source": [
    "new_crypto['Tone'].mean()"
   ]
  },
  {
   "cell_type": "code",
   "execution_count": 52,
   "id": "a5782c43-a0cc-4ab9-ba88-0d0b053fde1d",
   "metadata": {},
   "outputs": [
    {
     "data": {
      "image/png": "[encoded data removed]",
      "text/plain": [
       "<Figure size 432x288 with 1 Axes>"
      ]
     },
     "metadata": {
      "needs_background": "light"
     },
     "output_type": "display_data"
    }
   ],
   "source": [
    "labels = ['Analytic', 'Clout', 'Authentic','Tone']\n",
    "y1=[92.67,72.15,28.57,28.28]\n",
    "y2=[73.96,58.99,39.03,51.90]\n",
    "\n",
    "x = np.arange(4)\n",
    "width=0.2\n",
    "plt.bar(x-0.2, y1, width, color='red')\n",
    "plt.bar(x, y2, width, color='blue')\n",
    "\n",
    "plt.xticks(x, ['Analytic', 'Clout', 'Authentic','Tone'])\n",
    "plt.xlabel(\"LIWC summary variables\")\n",
    "plt.ylabel(\"Mean Value\")\n",
    "plt.legend([\"New News\", \"New Crypto\"])\n",
    "plt.show()\n"
   ]
  },
  {
   "cell_type": "code",
   "execution_count": null,
   "id": "cef8613c-ba72-4a29-bcf5-f7aed12f6f0c",
   "metadata": {},
   "outputs": [],
   "source": []
  }
 ],
 "metadata": {
  "kernelspec": {
   "display_name": "Python 3",
   "language": "python",
   "name": "python3"
  },
  "language_info": {
   "codemirror_mode": {
    "name": "ipython",
    "version": 3
   },
   "file_extension": ".py",
   "mimetype": "text/x-python",
   "name": "python",
   "nbconvert_exporter": "python",
   "pygments_lexer": "ipython3",
   "version": "3.8.8"
  }
 },
 "nbformat": 4,
 "nbformat_minor": 5
}
