{
 "cells": [
  {
   "cell_type": "code",
   "execution_count": 1,
   "id": "44c6a106",
   "metadata": {},
   "outputs": [],
   "source": [
    "import schedule\n",
    "import praw\n",
    "import pandas as pd"
   ]
  },
  {
   "cell_type": "code",
   "execution_count": null,
   "id": "9610a851",
   "metadata": {},
   "outputs": [
    {
     "name": "stderr",
     "output_type": "stream",
     "text": [
      "Version 7.0.0 of praw is outdated. Version 7.3.0 was released Thursday June 17, 2021.\n"
     ]
    }
   ],
   "source": [
    "def job():\n",
    "    \n",
    "   #Authenticating with reddit servers with the access tokens\n",
    "    reddit = praw.Reddit(client_id='GS6scCoMSNomkI78L8nglQ',\n",
    "                             client_secret='D3O0SzMJ8ZIz4IfTL4lAJOHy_fakJA',\n",
    "                             password='A2d4i0t6y4a@',\n",
    "                             user_agent='Diss',\n",
    "                             username='info_scientist')\n",
    "    \n",
    "    #Creating an instance of reddit object specifying the subreddit to scrape from\n",
    "    subreddits=reddit.subreddit('CryptoCurrency')\n",
    "    \n",
    "    #Extracting top 50 hot posts from the hot section of reddit\n",
    "    hot_news=subreddits.new(limit=50)\n",
    "\n",
    "    #Creating a dictionary to append the values extracted from the api \n",
    "    topics_dict={\n",
    "             \"title\":[],\n",
    "             \"score\":[],\n",
    "             \"id\":[],\n",
    "             \"url\":[],\n",
    "             \"comms_num\":[],\n",
    "             \"author\":[],\n",
    "             \"upvote_ratio\":[],\n",
    "             \"flair\":[],\n",
    "             \"created_utc\":[],\n",
    "             \"clicked\":[],\n",
    "             \"edited\":[],\n",
    "             \"no_crossposts\":[],\n",
    "             \"domain\":[],\n",
    "             \"is_crosspostable\":[],\n",
    "             \"view_count\":[],\n",
    "             \"visited\":[],\n",
    "             \"upvote\":[],\n",
    "             \"ups\":[],\n",
    "             \"is_video\":[], \n",
    "             \"link_flair_text\":[],   \n",
    "             \"gilded\":[],\n",
    "         \n",
    "    \n",
    "             }\n",
    "    \n",
    "    #Looping through the elements and appending them to the dictionary    \n",
    "    for submission in hot_news:\n",
    "        topics_dict[\"title\"].append(submission.title)\n",
    "        topics_dict[\"score\"].append(submission.score)\n",
    "        topics_dict[\"id\"].append(submission.id)\n",
    "        topics_dict[\"url\"].append(submission.url)\n",
    "        topics_dict[\"comms_num\"].append(submission.num_comments)\n",
    "        topics_dict[\"author\"].append(submission.author)\n",
    "        topics_dict[\"upvote_ratio\"].append(submission.upvote_ratio)\n",
    "        topics_dict[\"flair\"].append(submission.author_flair_text)\n",
    "        topics_dict[\"created_utc\"].append(submission.created_utc)\n",
    "        topics_dict[\"clicked\"].append(submission.clicked)\n",
    "        topics_dict[\"edited\"].append(submission.edited)\n",
    "        topics_dict[\"no_crossposts\"].append(submission.num_crossposts)\n",
    "        topics_dict[\"is_crosspostable\"].append(submission.is_crosspostable)\n",
    "        topics_dict[\"view_count\"].append(submission.view_count)\n",
    "        topics_dict[\"visited\"].append(submission.visited)\n",
    "        topics_dict[\"domain\"].append(submission.domain)\n",
    "        topics_dict[\"ups\"].append(submission.ups)\n",
    "        topics_dict[\"upvote\"].append(submission.upvote)\n",
    "        topics_dict[\"is_video\"].append(submission.is_video)\n",
    "        topics_dict[\"link_flair_text\"].append(submission.link_flair_text)\n",
    "        topics_dict[\"gilded\"].append(submission.gilded)\n",
    "      \n",
    "\n",
    "\n",
    "      \n",
    "     \n",
    "    df = pd.DataFrame(topics_dict)\n",
    "    with open('/Users/adityaravindrabhat/Downloads/Dissertation Scripts/test.csv', 'a') as f:\n",
    "        df.to_csv(f, header=True)\n",
    "        #Scheduling \n",
    "schedule.every().day.at(\"19:16\").do(job)\n",
    "schedule.every().day.at(\"19:18\").do(job)\n",
    "schedule.every().day.at(\"19:20\").do(job)\n",
    "schedule.every().day.at(\"19:22\").do(job)\n",
    "\n",
    "while True:\n",
    "        schedule.run_pending()"
   ]
  },
  {
   "cell_type": "code",
   "execution_count": null,
   "id": "e17efb2b",
   "metadata": {},
   "outputs": [],
   "source": []
  }
 ],
 "metadata": {
  "kernelspec": {
   "display_name": "Python 3",
   "language": "python",
   "name": "python3"
  },
  "language_info": {
   "codemirror_mode": {
    "name": "ipython",
    "version": 3
   },
   "file_extension": ".py",
   "mimetype": "text/x-python",
   "name": "python",
   "nbconvert_exporter": "python",
   "pygments_lexer": "ipython3",
   "version": "3.8.8"
  }
 },
 "nbformat": 4,
 "nbformat_minor": 5
}
