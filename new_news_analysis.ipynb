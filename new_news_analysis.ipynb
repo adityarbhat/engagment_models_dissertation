{
 "cells": [
  {
   "cell_type": "code",
   "execution_count": 1,
   "id": "ec732a92-16cd-4ad8-b012-417f5d34a7a0",
   "metadata": {},
   "outputs": [],
   "source": [
    "import pandas as pd "
   ]
  },
  {
   "cell_type": "code",
   "execution_count": 2,
   "id": "98ea76b1-52ca-426e-af12-7a4304abb5bf",
   "metadata": {},
   "outputs": [],
   "source": [
    "new_news=pd.read_csv('Datasets/new_news_v1.csv')"
   ]
  },
  {
   "cell_type": "code",
   "execution_count": 3,
   "id": "17329765-bb02-4777-9791-a0b9ca3fd3ab",
   "metadata": {},
   "outputs": [],
   "source": [
    "#converting the created date column to datetime for analysis\n",
    "new_news[['created_date']]=new_news[['created_date']].apply(pd.to_datetime)"
   ]
  },
  {
   "cell_type": "code",
   "execution_count": 4,
   "id": "59dc7929-1447-4b9a-8186-2ac30c72b422",
   "metadata": {},
   "outputs": [],
   "source": [
    "#creating a day of week column\n",
    "new_news['day_of_week']=new_news['created_date'].dt.day_name()"
   ]
  },
  {
   "cell_type": "code",
   "execution_count": 5,
   "id": "33597918-726e-4bbc-91ea-4f4273a18db4",
   "metadata": {},
   "outputs": [],
   "source": [
    "#creating time of the dy categorical column\n",
    "new_news['time_of_day']=pd.cut(pd.to_timedelta(new_news['created_time']), pd.to_timedelta(['04:00:00','12:00:00','17:00:00','23:59:59']),\n",
    "          labels=['Morning','Afternoon','Evening']).astype(str).replace('nan','Midnight')"
   ]
  },
  {
   "cell_type": "code",
   "execution_count": 6,
   "id": "9aa4ceda-c621-4c7e-ae5e-c2e25ea4027f",
   "metadata": {},
   "outputs": [
    {
     "data": {
      "text/plain": [
       "(3738, 25)"
      ]
     },
     "execution_count": 6,
     "metadata": {},
     "output_type": "execute_result"
    }
   ],
   "source": [
    "#getting the unique posts in the new_crypto for analysis\n",
    "\n",
    "new_news_unique=new_news.drop_duplicates(subset=['id'],keep='first',ignore_index=True)\n",
    "new_news_unique.shape"
   ]
  },
  {
   "cell_type": "code",
   "execution_count": 7,
   "id": "085e9702-7bf1-4941-98d2-f5092e793a33",
   "metadata": {},
   "outputs": [
    {
     "data": {
      "image/png": "[encoded data removed]",
      "text/plain": [
       "<Figure size 432x288 with 1 Axes>"
      ]
     },
     "metadata": {
      "needs_background": "light"
     },
     "output_type": "display_data"
    }
   ],
   "source": [
    "import matplotlib.pyplot as plt \n",
    "import seaborn as sns\n",
    "\n",
    "sns.set_context('paper')\n",
    "plot_order=['Sunday','Monday','Tuesday','Wednesday','Thursday','Friday','Saturday']\n",
    "sns.countplot(x=\"time_of_day\",data=new_news_unique,hue='day_of_week',hue_order=plot_order)\n",
    "plt.legend(bbox_to_anchor=(1.05, 1), loc='upper left', borderaxespad=0)\n",
    "plt.show()\n"
   ]
  },
  {
   "cell_type": "code",
   "execution_count": null,
   "id": "d3804534-8b28-4758-9e47-780abb7e8487",
   "metadata": {},
   "outputs": [],
   "source": []
  }
 ],
 "metadata": {
  "kernelspec": {
   "display_name": "Python 3",
   "language": "python",
   "name": "python3"
  },
  "language_info": {
   "codemirror_mode": {
    "name": "ipython",
    "version": 3
   },
   "file_extension": ".py",
   "mimetype": "text/x-python",
   "name": "python",
   "nbconvert_exporter": "python",
   "pygments_lexer": "ipython3",
   "version": "3.8.8"
  }
 },
 "nbformat": 4,
 "nbformat_minor": 5
}
